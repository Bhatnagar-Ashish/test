{
  "nbformat": 4,
  "nbformat_minor": 0,
  "metadata": {
    "colab": {
      "name": "Assignment-2A.ipynb",
      "version": "0.3.2",
      "provenance": [],
      "toc_visible": true
    },
    "kernelspec": {
      "display_name": "Python 3",
      "language": "python",
      "name": "python3"
    }
  },
  "cells": [
    {
      "cell_type": "markdown",
      "metadata": {
        "id": "view-in-github",
        "colab_type": "text"
      },
      "source": [
        "[View in Colaboratory](https://colab.research.google.com/github/Bhatnagar-Ashish/test/blob/master/Assignment_2A.ipynb)"
      ]
    },
    {
      "metadata": {
        "id": "XKCGr_7eLDcX",
        "colab_type": "text"
      },
      "cell_type": "markdown",
      "source": [
        "<!--\n",
        "Python:\n",
        "  Simple data types\n",
        "    integer, float, string\n",
        "  Compound data types\n",
        "    tuple, list, dictionary, set\n",
        "  Flow control\n",
        "    if, while, for, try, with\n",
        "  Comprehensions, generators\n",
        "  Functions\n",
        "  Classes\n",
        "  Standard library\n",
        "    json, collections, itertools\n",
        "\n",
        "Numpy\n",
        "-->\n",
        "#### Assignment 2A\n",
        "Ashish Bhatnagar\n",
        "\n",
        "Batch 5\n",
        "\n",
        "This notebook is rewritten by Ashish Bhatnagar by using only these variables: **eip, mlblr, eip_in, eip_out, mlblr_in, mlblr_out, eip_list, eip_dict**.\n",
        "<br><br>\n",
        "\n",
        "The original tutorial was contributed by [Justin Johnson](http://cs.stanford.edu/people/jcjohns/) can be found [here](https://github.com/machinelearningblr/machinelearningblr.github.io/blob/master/tutorials/CS231n-Materials/CS231n-python-numpy-tutorial.ipynb).\n",
        "\n",
        "We will use the Python programming language for all assignments in this course.\n",
        "Python is a great general-purpose programming language on its own, but with the\n",
        "help of a few popular libraries (numpy, scipy, matplotlib) it becomes a powerful\n",
        "environment for scientific computing.\n",
        "\n",
        "We expect that many of you will have some experience with Python and numpy;\n",
        "for the rest of you, this section will serve as a quick crash course both on\n",
        "the Python programming language and on the use of Python for scientific\n",
        "computing.\n",
        "\n",
        "Some of you may have previous knowledge in Matlab, in which case we also recommend the [numpy for Matlab users](http://wiki.scipy.org/NumPy_for_Matlab_Users) page.\n",
        "\n",
        "You can also find an [IPython notebook version of this tutorial here](https://github.com/kuleshov/cs228-material/blob/master/tutorials/python/cs228-python-tutorial.ipynb) created by [Volodymyr Kuleshov](http://web.stanford.edu/~kuleshov/) and [Isaac Caswell](https://symsys.stanford.edu/viewing/symsysaffiliate/21335) for [CS 228](http://cs.stanford.edu/~ermon/cs228/index.html).\n",
        "\n",
        "Table of contents:\n",
        "\n",
        "- [Python](#python)\n",
        "  - [Basic data types](#python-basic)\n",
        "  - [Containers](#python-containers)\n",
        "      - [Lists](#python-lists)\n",
        "      - [Dictionaries](#python-dicts)\n",
        "      - [Sets](#python-sets)\n",
        "      - [Tuples](#python-tuples)\n",
        "  - [Functions](#python-functions)\n",
        "  - [Classes](#python-classes)\n",
        "- [Numpy](#numpy)\n",
        "  - [Arrays](#numpy-arrays)\n",
        "  - [Array indexing](#numpy-array-indexing)\n",
        "  - [Datatypes](#numpy-datatypes)\n",
        "  - [Array math](#numpy-math)\n",
        "  - [Broadcasting](#numpy-broadcasting)\n",
        "- [SciPy](#scipy)\n",
        "  - [Image operations](#scipy-image)\n",
        "  - [MATLAB files](#scipy-matlab)\n",
        "  - [Distance between points](#scipy-dist)\n",
        "- [Matplotlib](#matplotlib)\n",
        "  - [Plotting](#matplotlib-plotting)\n",
        "  - [Subplots](#matplotlib-subplots)\n",
        "  - [Images](#matplotlib-images)\n",
        "\n",
        "<a name='python'></a>\n",
        "\n",
        "## Python\n",
        "\n",
        "Python is a high-level, dynamically typed multiparadigm programming language.\n",
        "Python code is often said to be almost like pseudocode, since it allows you\n",
        "to express very powerful ideas in very few lines of code while being very\n",
        "readable. As an example, here is an implementation of the classic quicksort\n",
        "algorithm in Python:"
      ]
    },
    {
      "metadata": {
        "id": "9GhV0o32LDcY",
        "colab_type": "code",
        "colab": {
          "base_uri": "https://localhost:8080/",
          "height": 34
        },
        "outputId": "7ae0286e-dacf-48b1-9bb9-2743859e1d52"
      },
      "cell_type": "code",
      "source": [
        "def quicksort(eip_list):\n",
        "    if len(eip_list) <= 1:\n",
        "        return eip_list\n",
        "    mlblr = eip_list[len(eip_list) // 2]\n",
        "    eip_in = [mlblr_in for mlblr_in in eip_list if mlblr_in < mlblr]\n",
        "    eip = [mlblr_in for mlblr_in in eip_list if mlblr_in == mlblr]\n",
        "    eip_out = [mlblr_in for mlblr_in in eip_list if mlblr_in > mlblr]\n",
        "    return quicksort(eip_in) + eip + quicksort(eip_out)\n",
        "\n",
        "print(quicksort([3,6,8,10,1,2,1]))\n",
        "# Prints \"[1, 1, 2, 3, 6, 8, 10]\""
      ],
      "execution_count": 12,
      "outputs": [
        {
          "output_type": "stream",
          "text": [
            "[1, 1, 2, 3, 6, 8, 10]\n"
          ],
          "name": "stdout"
        }
      ]
    },
    {
      "metadata": {
        "id": "DM3wALnVLDcb",
        "colab_type": "text"
      },
      "cell_type": "markdown",
      "source": [
        "### Python versions\n",
        "There are currently two different supported versions of Python, 2.7 and 3.5.\n",
        "Somewhat confusingly, Python 3.0 introduced many backwards-incompatible changes\n",
        "to the language, so code written for 2.7 may not work under 3.5 and vice versa.\n",
        "For this class all code will use Python 3.5.\n",
        "\n",
        "You can check your Python version at the command line by running\n",
        "`python --version`.\n",
        "\n",
        "<a name='python-basic'></a>\n",
        "\n",
        "### Basic data types\n",
        "\n",
        "Like most languages, Python has a number of basic types including integers,\n",
        "floats, booleans, and strings. These data types behave in ways that are\n",
        "familiar from other programming languages.\n",
        "\n",
        "**Numbers:** Integers and floats work as you would expect from other languages:"
      ]
    },
    {
      "metadata": {
        "id": "SqqqLMGmWMOC",
        "colab_type": "code",
        "colab": {
          "base_uri": "https://localhost:8080/",
          "height": 187
        },
        "outputId": "c678a291-037a-4802-f13b-682a43dca5eb"
      },
      "cell_type": "code",
      "source": [
        "#@title Default title text\n",
        "eip = 3\n",
        "print(type(eip)) # Prints \"<class 'int'>\"\n",
        "print(eip)       # Prints \"3\"\n",
        "print(eip + 1)   # Addition; prints \"4\"\n",
        "print(eip - 1)   # Subtraction; prints \"2\"\n",
        "print(eip * 2)   # Multiplication; prints \"6\"\n",
        "print(eip ** 2)  # Exponentiation; prints \"9\"\n",
        "eip += 1\n",
        "print(eip)  # Prints \"4\"\n",
        "eip *= 2\n",
        "print(eip)  # Prints \"8\"\n",
        "mlblr = 2.5\n",
        "print(type(mlblr)) # Prints \"<class 'float'>\"\n",
        "print(mlblr, mlblr + 1, mlblr * 2, mlblr ** 2) # Prints \"2.5 3.5 5.0 6.25\""
      ],
      "execution_count": 13,
      "outputs": [
        {
          "output_type": "stream",
          "text": [
            "<class 'int'>\n",
            "3\n",
            "4\n",
            "2\n",
            "6\n",
            "9\n",
            "4\n",
            "8\n",
            "<class 'float'>\n",
            "2.5 3.5 5.0 6.25\n"
          ],
          "name": "stdout"
        }
      ]
    },
    {
      "metadata": {
        "id": "PfB6XIVtLDce",
        "colab_type": "text"
      },
      "cell_type": "markdown",
      "source": [
        "Note that unlike many languages, Python does not have unary increment (`x++`)\n",
        "or decrement (`x--`) operators.\n",
        "\n",
        "Python also has built-in types for complex numbers;\n",
        "you can find all of the details\n",
        "[in the documentation](https://docs.python.org/3.5/library/stdtypes.html#numeric-types-int-float-complex).\n",
        "\n",
        "**Booleans:** Python implements all of the usual operators for Boolean logic,\n",
        "but uses English words rather than symbols (`&&`, `||`, etc.):"
      ]
    },
    {
      "metadata": {
        "id": "uLPmV4TlLDcf",
        "colab_type": "code",
        "colab": {
          "base_uri": "https://localhost:8080/",
          "height": 102
        },
        "outputId": "082d7d95-772c-4f86-c571-7f757d2f777e"
      },
      "cell_type": "code",
      "source": [
        "eip = True\n",
        "mlblr = False\n",
        "print(type(eip)) # Prints \"<class 'bool'>\"\n",
        "print(eip and mlblr) # Logical AND; prints \"False\"\n",
        "print(eip or mlblr)  # Logical OR; prints \"True\"\n",
        "print(not eip)   # Logical NOT; prints \"False\"\n",
        "print(eip != mlblr)  # Logical XOR; prints \"True\""
      ],
      "execution_count": 14,
      "outputs": [
        {
          "output_type": "stream",
          "text": [
            "<class 'bool'>\n",
            "False\n",
            "True\n",
            "False\n",
            "True\n"
          ],
          "name": "stdout"
        }
      ]
    },
    {
      "metadata": {
        "id": "xqhQj1AYLDch",
        "colab_type": "text"
      },
      "cell_type": "markdown",
      "source": [
        "**Strings:** Python has great support for strings:"
      ]
    },
    {
      "metadata": {
        "id": "GNlrM0goLDch",
        "colab_type": "code",
        "colab": {
          "base_uri": "https://localhost:8080/",
          "height": 85
        },
        "outputId": "a0a7e76f-b533-43d6-dc9d-c48c56aebd88"
      },
      "cell_type": "code",
      "source": [
        "eip = 'hello'    # String literals can use single quotes\n",
        "mlblr = \"world\"    # or double quotes; it does not matter.\n",
        "print(eip)       # Prints \"hello\"\n",
        "print(len(eip))  # String length; prints \"5\"\n",
        "eip_in = eip + ' ' + mlblr  # String concatenation\n",
        "print(eip_in)  # prints \"hello world\"\n",
        "eip_out = '%s %s %d' % (eip, mlblr, 12)  # sprintf style string formatting\n",
        "print(eip_out)  # prints \"hello world 12\""
      ],
      "execution_count": 15,
      "outputs": [
        {
          "output_type": "stream",
          "text": [
            "hello\n",
            "5\n",
            "hello world\n",
            "hello world 12\n"
          ],
          "name": "stdout"
        }
      ]
    },
    {
      "metadata": {
        "id": "04f9OwjLLDcj",
        "colab_type": "text"
      },
      "cell_type": "markdown",
      "source": [
        "String objects have a bunch of useful methods; for example:"
      ]
    },
    {
      "metadata": {
        "id": "bz0xlSVeLDcl",
        "colab_type": "code",
        "colab": {
          "base_uri": "https://localhost:8080/",
          "height": 119
        },
        "outputId": "593d2340-dc3d-46a8-a911-0258521fa37d"
      },
      "cell_type": "code",
      "source": [
        "eip = \"hello\"\n",
        "print(eip.capitalize())  # Capitalize a string; prints \"Hello\"\n",
        "print(eip.upper())       # Convert a string to uppercase; prints \"HELLO\"\n",
        "print(eip.rjust(7))      # Right-justify a string, padding with spaces; prints \"  hello\"\n",
        "print(eip.center(7))     # Center a string, padding with spaces; prints \" hello \"\n",
        "print(eip.replace('l', '(ell)'))  # Replace all instances of one substring with another;\n",
        "                                # prints \"he(ell)(ell)o\"\n",
        "print('  world '.strip())  # Strip leading and trailing whitespace; prints \"world\""
      ],
      "execution_count": 16,
      "outputs": [
        {
          "output_type": "stream",
          "text": [
            "Hello\n",
            "HELLO\n",
            "  hello\n",
            " hello \n",
            "he(ell)(ell)o\n",
            "world\n"
          ],
          "name": "stdout"
        }
      ]
    },
    {
      "metadata": {
        "id": "73PMO6oNLDcn",
        "colab_type": "text"
      },
      "cell_type": "markdown",
      "source": [
        "You can find a list of all string methods [in the documentation](https://docs.python.org/3.5/library/stdtypes.html#string-methods).\n",
        "\n",
        "<a name='python-containers'></a>\n",
        "\n",
        "### Containers\n",
        "Python includes several built-in container types: lists, dictionaries, sets, and tuples.\n",
        "\n",
        "<a name='python-lists'></a>\n",
        "\n",
        "#### Lists\n",
        "A list is the Python equivalent of an array, but is resizeable\n",
        "and can contain elements of different types:"
      ]
    },
    {
      "metadata": {
        "id": "1ZTl_sqqLDcn",
        "colab_type": "code",
        "colab": {
          "base_uri": "https://localhost:8080/",
          "height": 102
        },
        "outputId": "411b9295-6f88-405f-9924-0bcfb49fbeab"
      },
      "cell_type": "code",
      "source": [
        "eip = [3, 1, 2]    # Create a list\n",
        "print(eip, eip[2])  # Prints \"[3, 1, 2] 2\"\n",
        "print(eip[-1])     # Negative indices count from the end of the list; prints \"2\"\n",
        "eip[2] = 'foo'     # Lists can contain elements of different types\n",
        "print(eip)         # Prints \"[3, 1, 'foo']\"\n",
        "eip.append('bar')  # Add a new element to the end of the list\n",
        "print(eip)         # Prints \"[3, 1, 'foo', 'bar']\"\n",
        "mlblr = eip.pop()      # Remove and return the last element of the list\n",
        "print(mlblr, eip)      # Prints \"bar [3, 1, 'foo']\""
      ],
      "execution_count": 17,
      "outputs": [
        {
          "output_type": "stream",
          "text": [
            "[3, 1, 2] 2\n",
            "2\n",
            "[3, 1, 'foo']\n",
            "[3, 1, 'foo', 'bar']\n",
            "bar [3, 1, 'foo']\n"
          ],
          "name": "stdout"
        }
      ]
    },
    {
      "metadata": {
        "id": "vYPK1QjXLDcp",
        "colab_type": "text"
      },
      "cell_type": "markdown",
      "source": [
        "As usual, you can find all the gory details about lists\n",
        "[in the documentation](https://docs.python.org/3.5/tutorial/datastructures.html#more-on-lists).\n",
        "\n",
        "**Slicing:**\n",
        "In addition to accessing list elements one at a time, Python provides\n",
        "concise syntax to access sublists; this is known as *slicing*:"
      ]
    },
    {
      "metadata": {
        "id": "Ne3dYpgILDcq",
        "colab_type": "code",
        "colab": {
          "base_uri": "https://localhost:8080/",
          "height": 136
        },
        "outputId": "2151e8b9-6c75-4718-a0f8-5ad1ba15dc59"
      },
      "cell_type": "code",
      "source": [
        "eip = list(range(5))     # range is a built-in function that creates a list of integers\n",
        "print(eip)               # Prints \"[0, 1, 2, 3, 4]\"\n",
        "print(eip[2:4])          # Get a slice from index 2 to 4 (exclusive); prints \"[2, 3]\"\n",
        "print(eip[2:])           # Get a slice from index 2 to the end; prints \"[2, 3, 4]\"\n",
        "print(eip[:2])           # Get a slice from the start to index 2 (exclusive); prints \"[0, 1]\"\n",
        "print(eip[:])            # Get a slice of the whole list; prints \"[0, 1, 2, 3, 4]\"\n",
        "print(eip[:-1])          # Slice indices can be negative; prints \"[0, 1, 2, 3]\"\n",
        "eip[2:4] = [8, 9]        # Assign a new sublist to a slice\n",
        "print(eip)               # Prints \"[0, 1, 8, 9, 4]\""
      ],
      "execution_count": 18,
      "outputs": [
        {
          "output_type": "stream",
          "text": [
            "[0, 1, 2, 3, 4]\n",
            "[2, 3]\n",
            "[2, 3, 4]\n",
            "[0, 1]\n",
            "[0, 1, 2, 3, 4]\n",
            "[0, 1, 2, 3]\n",
            "[0, 1, 8, 9, 4]\n"
          ],
          "name": "stdout"
        }
      ]
    },
    {
      "metadata": {
        "id": "OJRwKVyBLDct",
        "colab_type": "text"
      },
      "cell_type": "markdown",
      "source": [
        "We will see slicing again in the context of numpy arrays.\n",
        "\n",
        "**Loops:** You can loop over the elements of a list like this:"
      ]
    },
    {
      "metadata": {
        "id": "FcCCggFSLDcu",
        "colab_type": "code",
        "colab": {
          "base_uri": "https://localhost:8080/",
          "height": 68
        },
        "outputId": "cfd9ee00-c1cf-4383-ec19-5c37d4b28833"
      },
      "cell_type": "code",
      "source": [
        "mlblr = ['cat', 'dog', 'monkey']\n",
        "for eip in mlblr:\n",
        "    print(eip)\n",
        "# Prints \"cat\", \"dog\", \"monkey\", each on its own line."
      ],
      "execution_count": 19,
      "outputs": [
        {
          "output_type": "stream",
          "text": [
            "cat\n",
            "dog\n",
            "monkey\n"
          ],
          "name": "stdout"
        }
      ]
    },
    {
      "metadata": {
        "id": "iI2Laqh_LDcw",
        "colab_type": "text"
      },
      "cell_type": "markdown",
      "source": [
        "If you want access to the index of each element within the body of a loop,\n",
        "use the built-in `enumerate` function:"
      ]
    },
    {
      "metadata": {
        "id": "KjFKlXQqLDcx",
        "colab_type": "code",
        "colab": {
          "base_uri": "https://localhost:8080/",
          "height": 68
        },
        "outputId": "fb0c158a-1ce5-4570-f741-a5ac1c6fe0f6"
      },
      "cell_type": "code",
      "source": [
        "mlblr = ['cat', 'dog', 'monkey']\n",
        "for eip_in, eip in enumerate(mlblr):\n",
        "    print('#%d: %s' % (eip_in + 1, eip))\n",
        "# Prints \"#1: cat\", \"#2: dog\", \"#3: monkey\", each on its own line"
      ],
      "execution_count": 20,
      "outputs": [
        {
          "output_type": "stream",
          "text": [
            "#1: cat\n",
            "#2: dog\n",
            "#3: monkey\n"
          ],
          "name": "stdout"
        }
      ]
    },
    {
      "metadata": {
        "id": "ZmFBaKT9LDcz",
        "colab_type": "text"
      },
      "cell_type": "markdown",
      "source": [
        "**List comprehensions:**\n",
        "When programming, frequently we want to transform one type of data into another.\n",
        "As a simple example, consider the following code that computes square numbers:"
      ]
    },
    {
      "metadata": {
        "id": "nnIE5qeILDcz",
        "colab_type": "code",
        "colab": {
          "base_uri": "https://localhost:8080/",
          "height": 34
        },
        "outputId": "50f04fdd-2a8e-43e9-f1c2-19248d5d892d"
      },
      "cell_type": "code",
      "source": [
        "eip = [0, 1, 2, 3, 4]\n",
        "mlblr = []\n",
        "for eip_in in eip:\n",
        "    mlblr.append(eip_in ** 2)\n",
        "print(mlblr)   # Prints [0, 1, 4, 9, 16]"
      ],
      "execution_count": 21,
      "outputs": [
        {
          "output_type": "stream",
          "text": [
            "[0, 1, 4, 9, 16]\n"
          ],
          "name": "stdout"
        }
      ]
    },
    {
      "metadata": {
        "id": "UzdjPRElLDc2",
        "colab_type": "text"
      },
      "cell_type": "markdown",
      "source": [
        "You can make this code simpler using a **list comprehension**:"
      ]
    },
    {
      "metadata": {
        "id": "ikAQM2OhLDc2",
        "colab_type": "code",
        "colab": {
          "base_uri": "https://localhost:8080/",
          "height": 34
        },
        "outputId": "363db564-1789-4149-8ccf-3248fa9c42ff"
      },
      "cell_type": "code",
      "source": [
        "eip = [0, 1, 2, 3, 4]\n",
        "mlblr = [eip_in ** 2 for eip_in in eip]\n",
        "print(mlblr)   # Prints [0, 1, 4, 9, 16]"
      ],
      "execution_count": 22,
      "outputs": [
        {
          "output_type": "stream",
          "text": [
            "[0, 1, 4, 9, 16]\n"
          ],
          "name": "stdout"
        }
      ]
    },
    {
      "metadata": {
        "id": "WQyhnPAxLDc5",
        "colab_type": "text"
      },
      "cell_type": "markdown",
      "source": [
        "List comprehensions can also contain conditions:"
      ]
    },
    {
      "metadata": {
        "id": "DwcxDmVGLDc7",
        "colab_type": "code",
        "colab": {
          "base_uri": "https://localhost:8080/",
          "height": 34
        },
        "outputId": "e35ea0b7-384c-481a-95ee-c4f67908269f"
      },
      "cell_type": "code",
      "source": [
        "eip = [0, 1, 2, 3, 4]\n",
        "mlblr = [eip_in ** 2 for eip_in in eip if eip_in % 2 == 0]\n",
        "print(mlblr)  # Prints \"[0, 4, 16]\""
      ],
      "execution_count": 23,
      "outputs": [
        {
          "output_type": "stream",
          "text": [
            "[0, 4, 16]\n"
          ],
          "name": "stdout"
        }
      ]
    },
    {
      "metadata": {
        "id": "ib0Wc8F_LDc-",
        "colab_type": "text"
      },
      "cell_type": "markdown",
      "source": [
        "<a name='python-dicts'></a>\n",
        "\n",
        "#### Dictionaries\n",
        "A dictionary stores (key, value) pairs, similar to a `Map` in Java or\n",
        "an object in Javascript. You can use it like this:"
      ]
    },
    {
      "metadata": {
        "id": "VqwUcEx9LDc_",
        "colab_type": "code",
        "colab": {
          "base_uri": "https://localhost:8080/",
          "height": 119
        },
        "outputId": "e6af82e6-465d-4b4b-e9e4-01f4f5b97851"
      },
      "cell_type": "code",
      "source": [
        "eip = {'cat': 'cute', 'dog': 'furry'}  # Create a new dictionary with some data\n",
        "print(eip['cat'])       # Get an entry from a dictionary; prints \"cute\"\n",
        "print('cat' in eip)     # Check if a dictionary has a given key; prints \"True\"\n",
        "eip['fish'] = 'wet'     # Set an entry in a dictionary\n",
        "print(eip['fish'])      # Prints \"wet\"\n",
        "# print(eip['monkey'])  # KeyError: 'monkey' not a key of eip\n",
        "print(eip.get('monkey', 'N/A'))  # Get an element with a default; prints \"N/A\"\n",
        "print(eip.get('fish', 'N/A'))    # Get an element with a default; prints \"wet\"\n",
        "del eip['fish']         # Remove an element from a dictionary\n",
        "print(eip.get('fish', 'N/A')) # \"fish\" is no longer a key; prints \"N/A\""
      ],
      "execution_count": 26,
      "outputs": [
        {
          "output_type": "stream",
          "text": [
            "cute\n",
            "True\n",
            "wet\n",
            "N/A\n",
            "wet\n",
            "N/A\n"
          ],
          "name": "stdout"
        }
      ]
    },
    {
      "metadata": {
        "id": "oFfei85uLDdC",
        "colab_type": "text"
      },
      "cell_type": "markdown",
      "source": [
        "You can find all you need to know about dictionaries\n",
        "[in the documentation](https://docs.python.org/3.5/library/stdtypes.html#dict).\n",
        "\n",
        "**Loops:** It is easy to iterate over the keys in a dictionary:"
      ]
    },
    {
      "metadata": {
        "id": "QR9AqXovLDdD",
        "colab_type": "code",
        "colab": {
          "base_uri": "https://localhost:8080/",
          "height": 68
        },
        "outputId": "599f03b9-aa6b-4448-c10c-eedb5c19b0f0"
      },
      "cell_type": "code",
      "source": [
        "eip = {'person': 2, 'cat': 4, 'spider': 8}\n",
        "for mlblr in eip:\n",
        "    eip_in = eip[mlblr]\n",
        "    print('A %s has %d legs' % (mlblr, eip_in))\n",
        "# Prints \"A person has 2 legs\", \"A cat has 4 legs\", \"A spider has 8 legs\""
      ],
      "execution_count": 27,
      "outputs": [
        {
          "output_type": "stream",
          "text": [
            "A person has 2 legs\n",
            "A cat has 4 legs\n",
            "A spider has 8 legs\n"
          ],
          "name": "stdout"
        }
      ]
    },
    {
      "metadata": {
        "id": "uG2zDxslLDdF",
        "colab_type": "text"
      },
      "cell_type": "markdown",
      "source": [
        "If you want access to keys and their corresponding values, use the `items` method:"
      ]
    },
    {
      "metadata": {
        "id": "tVusFeQyLDdH",
        "colab_type": "code",
        "colab": {
          "base_uri": "https://localhost:8080/",
          "height": 68
        },
        "outputId": "dd8c5b64-6200-4614-d3af-1aa07bef126e"
      },
      "cell_type": "code",
      "source": [
        "eip = {'person': 2, 'cat': 4, 'spider': 8}\n",
        "for mlblr, eip_in in eip.items():\n",
        "    print('A %s has %d legs' % (mlblr, eip_in))\n",
        "# Prints \"A person has 2 legs\", \"A cat has 4 legs\", \"A spider has 8 legs\""
      ],
      "execution_count": 28,
      "outputs": [
        {
          "output_type": "stream",
          "text": [
            "A person has 2 legs\n",
            "A cat has 4 legs\n",
            "A spider has 8 legs\n"
          ],
          "name": "stdout"
        }
      ]
    },
    {
      "metadata": {
        "id": "SwkhKEcnLDdK",
        "colab_type": "text"
      },
      "cell_type": "markdown",
      "source": [
        "**Dictionary comprehensions:**\n",
        "These are similar to list comprehensions, but allow you to easily construct\n",
        "dictionaries. For example:"
      ]
    },
    {
      "metadata": {
        "id": "HD_Mqpc8LDdL",
        "colab_type": "code",
        "colab": {
          "base_uri": "https://localhost:8080/",
          "height": 34
        },
        "outputId": "5404595d-8ec2-4f31-b137-cf0269827e39"
      },
      "cell_type": "code",
      "source": [
        "eip = [0, 1, 2, 3, 4]\n",
        "mlblr = {eip_in: eip_in ** 2 for eip_in in eip if eip_in % 2 == 0}\n",
        "print(mlblr)  # Prints \"{0: 0, 2: 4, 4: 16}\""
      ],
      "execution_count": 33,
      "outputs": [
        {
          "output_type": "stream",
          "text": [
            "{0: 0, 2: 4, 4: 16}\n"
          ],
          "name": "stdout"
        }
      ]
    },
    {
      "metadata": {
        "id": "IzIQ7GfoLDdN",
        "colab_type": "text"
      },
      "cell_type": "markdown",
      "source": [
        "<a name='python-sets'></a>\n",
        "\n",
        "#### Sets\n",
        "A set is an unordered collection of distinct elements. As a simple example, consider\n",
        "the following:"
      ]
    },
    {
      "metadata": {
        "id": "jqXkFSbRLDdO",
        "colab_type": "code",
        "colab": {
          "base_uri": "https://localhost:8080/",
          "height": 119
        },
        "outputId": "38623e2c-ffdb-48ac-d7a3-9fbb8735ce7f"
      },
      "cell_type": "code",
      "source": [
        "eip = {'cat', 'dog'}\n",
        "print('cat' in eip)   # Check if an element is in a set; prints \"True\"\n",
        "print('fish' in eip)  # prints \"False\"\n",
        "eip.add('fish')       # Add an element to a set\n",
        "print('fish' in eip)  # Prints \"True\"\n",
        "print(len(eip))       # Number of elements in a set; prints \"3\"\n",
        "eip.add('cat')        # Adding an element that is already in the set does nothing\n",
        "print(len(eip))       # Prints \"3\"\n",
        "eip.remove('cat')     # Remove an element from a set\n",
        "print(len(eip))       # Prints \"2\""
      ],
      "execution_count": 34,
      "outputs": [
        {
          "output_type": "stream",
          "text": [
            "True\n",
            "False\n",
            "True\n",
            "3\n",
            "3\n",
            "2\n"
          ],
          "name": "stdout"
        }
      ]
    },
    {
      "metadata": {
        "id": "kS31klOjLDdQ",
        "colab_type": "text"
      },
      "cell_type": "markdown",
      "source": [
        "As usual, everything you want to know about sets can be found\n",
        "[in the documentation](https://docs.python.org/3.5/library/stdtypes.html#set).\n",
        "\n",
        "\n",
        "**Loops:**\n",
        "Iterating over a set has the same syntax as iterating over a list;\n",
        "however since sets are unordered, you cannot make assumptions about the order\n",
        "in which you visit the elements of the set:"
      ]
    },
    {
      "metadata": {
        "id": "DenhS2KbLDdQ",
        "colab_type": "code",
        "colab": {
          "base_uri": "https://localhost:8080/",
          "height": 68
        },
        "outputId": "485f7137-b61c-43f7-cfde-b1d9f82becf8"
      },
      "cell_type": "code",
      "source": [
        "eip = {'cat', 'dog', 'fish'}\n",
        "for eip_in, mlblr in enumerate(eip):\n",
        "    print('#%d: %s' % (eip_in + 1, mlblr))\n",
        "# Prints \"#1: fish\", \"#2: dog\", \"#3: cat\""
      ],
      "execution_count": 36,
      "outputs": [
        {
          "output_type": "stream",
          "text": [
            "#1: cat\n",
            "#2: fish\n",
            "#3: dog\n"
          ],
          "name": "stdout"
        }
      ]
    },
    {
      "metadata": {
        "id": "z7Ks29ETLDdT",
        "colab_type": "text"
      },
      "cell_type": "markdown",
      "source": [
        "**Set comprehensions:**\n",
        "Like lists and dictionaries, we can easily construct sets using set comprehensions:"
      ]
    },
    {
      "metadata": {
        "id": "SD0sZeluLDdT",
        "colab_type": "code",
        "colab": {
          "base_uri": "https://localhost:8080/",
          "height": 34
        },
        "outputId": "2ce75604-3bc0-4e4a-b396-0c0b1d427366"
      },
      "cell_type": "code",
      "source": [
        "from math import sqrt\n",
        "eip = {int(sqrt(eip_in)) for eip_in in range(30)}\n",
        "print(eip)  # Prints \"{0, 1, 2, 3, 4, 5}\""
      ],
      "execution_count": 41,
      "outputs": [
        {
          "output_type": "stream",
          "text": [
            "{0, 1, 2, 3, 4, 5}\n"
          ],
          "name": "stdout"
        }
      ]
    },
    {
      "metadata": {
        "id": "4YlkWINELDdV",
        "colab_type": "text"
      },
      "cell_type": "markdown",
      "source": [
        "<a name='python-tuples'></a>\n",
        "\n",
        "#### Tuples\n",
        "A tuple is an (immutable) ordered list of values.\n",
        "A tuple is in many ways similar to a list; one of the most important differences is that\n",
        "tuples can be used as keys in dictionaries and as elements of sets, while lists cannot.\n",
        "Here is a trivial example:"
      ]
    },
    {
      "metadata": {
        "id": "1YfUBr-YLDdV",
        "colab_type": "code",
        "colab": {
          "base_uri": "https://localhost:8080/",
          "height": 68
        },
        "outputId": "a543023f-9f6f-457d-d2f1-092b6a8fbfc1"
      },
      "cell_type": "code",
      "source": [
        "eip = {(eip_in, eip_in + 1): eip_in for eip_in in range(10)}  # Create a dictionary with tuple keys\n",
        "mlblr = (5, 6)        # Create a tuple\n",
        "print(type(mlblr))    # Prints \"<class 'tuple'>\"\n",
        "print(eip[mlblr])       # Prints \"5\"\n",
        "print(eip[(1, 2)])  # Prints \"1\""
      ],
      "execution_count": 46,
      "outputs": [
        {
          "output_type": "stream",
          "text": [
            "<class 'tuple'>\n",
            "5\n",
            "1\n"
          ],
          "name": "stdout"
        }
      ]
    },
    {
      "metadata": {
        "id": "GZw55UHqLDdX",
        "colab_type": "text"
      },
      "cell_type": "markdown",
      "source": [
        "[The documentation](https://docs.python.org/3.5/tutorial/datastructures.html#tuples-and-sequences) has more information about tuples.\n",
        "\n",
        "<a name='python-functions'></a>\n",
        "\n",
        "### Functions\n",
        "Python functions are defined using the `def` keyword. For example:"
      ]
    },
    {
      "metadata": {
        "id": "Zrzz0_TULDdc",
        "colab_type": "code",
        "colab": {
          "base_uri": "https://localhost:8080/",
          "height": 68
        },
        "outputId": "4af85718-239f-43da-f14b-8d56acd0905e"
      },
      "cell_type": "code",
      "source": [
        "def sign(eip):\n",
        "    if eip > 0:\n",
        "        return 'positive'\n",
        "    elif eip < 0:\n",
        "        return 'negative'\n",
        "    else:\n",
        "        return 'zero'\n",
        "\n",
        "for eip in [-1, 0, 1]:\n",
        "    print(sign(eip))\n",
        "# Prints \"negative\", \"zero\", \"positive\""
      ],
      "execution_count": 47,
      "outputs": [
        {
          "output_type": "stream",
          "text": [
            "negative\n",
            "zero\n",
            "positive\n"
          ],
          "name": "stdout"
        }
      ]
    },
    {
      "metadata": {
        "id": "jsdso5mSLDdd",
        "colab_type": "text"
      },
      "cell_type": "markdown",
      "source": [
        "We will often define functions to take optional keyword arguments, like this:"
      ]
    },
    {
      "metadata": {
        "id": "lMVbsnv_LDde",
        "colab_type": "code",
        "colab": {
          "base_uri": "https://localhost:8080/",
          "height": 51
        },
        "outputId": "681519fb-96d0-4ca0-bc9a-73db76b97ce3"
      },
      "cell_type": "code",
      "source": [
        "def hello(eip, mlblr=False):\n",
        "    if mlblr:\n",
        "        print('HELLO, %s!' % eip.upper())\n",
        "    else:\n",
        "        print('Hello, %s' % eip)\n",
        "\n",
        "hello('Bob') # Prints \"Hello, Bob\"\n",
        "hello('Fred', mlblr=True)  # Prints \"HELLO, FRED!\""
      ],
      "execution_count": 50,
      "outputs": [
        {
          "output_type": "stream",
          "text": [
            "Hello, Bob\n",
            "HELLO, FRED!\n"
          ],
          "name": "stdout"
        }
      ]
    },
    {
      "metadata": {
        "id": "uKU7rBaZLDdg",
        "colab_type": "text"
      },
      "cell_type": "markdown",
      "source": [
        "There is a lot more information about Python functions\n",
        "[in the documentation](https://docs.python.org/3.5/tutorial/controlflow.html#defining-functions).\n",
        "\n",
        "<a name='python-classes'></a>\n",
        "\n",
        "### Classes\n",
        "\n",
        "The syntax for defining classes in Python is straightforward:"
      ]
    },
    {
      "metadata": {
        "id": "MhCW3eiRLDdh",
        "colab_type": "code",
        "colab": {
          "base_uri": "https://localhost:8080/",
          "height": 51
        },
        "outputId": "db01530a-c5b2-4f50-e629-2af1fb552484"
      },
      "cell_type": "code",
      "source": [
        "class Greeter(object):\n",
        "\n",
        "    # Constructor\n",
        "    def __init__(self, eip):\n",
        "        self.eip = eip  # Create an instance variable\n",
        "\n",
        "    # Instance method\n",
        "    def greet(self, mlblr=False):\n",
        "        if mlblr:\n",
        "            print('HELLO, %s!' % self.eip.upper())\n",
        "        else:\n",
        "            print('Hello, %s' % self.eip)\n",
        "\n",
        "eip_in = Greeter('Fred')  # Construct an instance of the Greeter class\n",
        "eip_in.greet()            # Call an instance method; prints \"Hello, Fred\"\n",
        "eip_in.greet(mlblr=True)   # Call an instance method; prints \"HELLO, FRED!\""
      ],
      "execution_count": 53,
      "outputs": [
        {
          "output_type": "stream",
          "text": [
            "Hello, Fred\n",
            "HELLO, FRED!\n"
          ],
          "name": "stdout"
        }
      ]
    },
    {
      "metadata": {
        "id": "zwcXewdaLDdj",
        "colab_type": "text"
      },
      "cell_type": "markdown",
      "source": [
        "You can read a lot more about Python classes\n",
        "[in the documentation](https://docs.python.org/3.5/tutorial/classes.html).\n",
        "\n",
        "<a name='numpy'></a>\n",
        "\n",
        "## Numpy\n",
        "\n",
        "[Numpy](http://www.numpy.org/) is the core library for scientific computing in Python.\n",
        "It provides a high-performance multidimensional array object, and tools for working with these\n",
        "arrays. If you are already familiar with MATLAB, you might find\n",
        "[this tutorial useful](http://wiki.scipy.org/NumPy_for_Matlab_Users) to get started with Numpy.\n",
        "\n",
        "<a name='numpy-arrays'></a>\n",
        "\n",
        "### Arrays\n",
        "A numpy array is a grid of values, all of the same type, and is indexed by a tuple of\n",
        "nonnegative integers. The number of dimensions is the *rank* of the array; the *shape*\n",
        "of an array is a tuple of integers giving the size of the array along each dimension.\n",
        "\n",
        "We can initialize numpy arrays from nested Python lists,\n",
        "and access elements using square brackets:"
      ]
    },
    {
      "metadata": {
        "id": "Enf8Vj6eLDdj",
        "colab_type": "code",
        "colab": {
          "base_uri": "https://localhost:8080/",
          "height": 119
        },
        "outputId": "6ff17d28-b14d-4bcc-e0fe-59032a8d0549"
      },
      "cell_type": "code",
      "source": [
        "import numpy as np\n",
        "\n",
        "mlblr = np.array([1, 2, 3])   # Create a rank 1 array\n",
        "print(type(mlblr))            # Prints \"<class 'numpy.ndarray'>\"\n",
        "print(mlblr.shape)            # Prints \"(3,)\"\n",
        "print(mlblr[0], mlblr[1], mlblr[2])   # Prints \"1 2 3\"\n",
        "mlblr[0] = 5                  # Change an element of the array\n",
        "print(mlblr)                  # Prints \"[5, 2, 3]\"\n",
        "\n",
        "mlblr_in = np.array([[1,2,3],[4,5,6]])    # Create a rank 2 array\n",
        "print(mlblr_in.shape)                     # Prints \"(2, 3)\"\n",
        "print(mlblr_in[0, 0], mlblr_in[0, 1], mlblr_in[1, 0])   # Prints \"1 2 4\""
      ],
      "execution_count": 79,
      "outputs": [
        {
          "output_type": "stream",
          "text": [
            "<class 'numpy.ndarray'>\n",
            "(3,)\n",
            "1 2 3\n",
            "[5 2 3]\n",
            "(2, 3)\n",
            "1 2 4\n"
          ],
          "name": "stdout"
        }
      ]
    },
    {
      "metadata": {
        "id": "PmoHo872LDdm",
        "colab_type": "text"
      },
      "cell_type": "markdown",
      "source": [
        "Numpy also provides many functions to create arrays:"
      ]
    },
    {
      "metadata": {
        "id": "s6H1tMBqLDdm",
        "colab_type": "code",
        "colab": {
          "base_uri": "https://localhost:8080/",
          "height": 170
        },
        "outputId": "94eb7d2c-94c4-4eb2-a97c-d2e1fbb278ae"
      },
      "cell_type": "code",
      "source": [
        "import numpy as np\n",
        "\n",
        "mlblr = np.zeros((2,2))   # Create an array of all zeros\n",
        "print(mlblr)              # Prints \"[[ 0.  0.]\n",
        "                      #          [ 0.  0.]]\"\n",
        "\n",
        "eip_in = np.ones((1,2))    # Create an array of all ones\n",
        "print(eip_in)              # Prints \"[[ 1.  1.]]\"\n",
        "\n",
        "eip_out = np.full((2,2), 7)  # Create a constant array\n",
        "print(eip_out)               # Prints \"[[ 7.  7.]\n",
        "                       #          [ 7.  7.]]\"\n",
        "\n",
        "mlblr_in = np.eye(2)         # Create a 2x2 identity matrix\n",
        "print(mlblr_in)              # Prints \"[[ 1.  0.]\n",
        "                      #          [ 0.  1.]]\"\n",
        "\n",
        "mlblr_out = np.random.random((2,2))  # Create an array filled with random values\n",
        "print(mlblr_out)                     # Might print \"[[ 0.91940167  0.08143941]\n",
        "                             #               [ 0.68744134  0.87236687]]\""
      ],
      "execution_count": 78,
      "outputs": [
        {
          "output_type": "stream",
          "text": [
            "[[0. 0.]\n",
            " [0. 0.]]\n",
            "[[1. 1.]]\n",
            "[[7 7]\n",
            " [7 7]]\n",
            "[[1. 0.]\n",
            " [0. 1.]]\n",
            "[[0.86291563 0.25974266]\n",
            " [0.32615216 0.91326809]]\n"
          ],
          "name": "stdout"
        }
      ]
    },
    {
      "metadata": {
        "id": "zwrynpEZLDdp",
        "colab_type": "text"
      },
      "cell_type": "markdown",
      "source": [
        "You can read about other methods of array creation\n",
        "[in the documentation](http://docs.scipy.org/doc/numpy/user/basics.creation.html#arrays-creation).\n",
        "\n",
        "<a name='numpy-array-indexing'></a>\n",
        "\n",
        "### Array indexing\n",
        "Numpy offers several ways to index into arrays.\n",
        "\n",
        "**Slicing:**\n",
        "Similar to Python lists, numpy arrays can be sliced.\n",
        "Since arrays may be multidimensional, you must specify a slice for each dimension\n",
        "of the array:"
      ]
    },
    {
      "metadata": {
        "id": "GgNne469LDdp",
        "colab_type": "code",
        "colab": {
          "base_uri": "https://localhost:8080/",
          "height": 51
        },
        "outputId": "040db823-6744-4fe7-e339-32995801162c"
      },
      "cell_type": "code",
      "source": [
        "import numpy as np\n",
        "\n",
        "# Create the following rank 2 array with shape (3, 4)\n",
        "# [[ 1  2  3  4]\n",
        "#  [ 5  6  7  8]\n",
        "#  [ 9 10 11 12]]\n",
        "mlblr = np.array([[1,2,3,4], [5,6,7,8], [9,10,11,12]])\n",
        "\n",
        "# Use slicing to pull out the subarray consisting of the first 2 rows\n",
        "# and columns 1 and 2; b is the following array of shape (2, 2):\n",
        "# [[2 3]\n",
        "#  [6 7]]\n",
        "mlblr_in = mlblr[:2, 1:3]\n",
        "\n",
        "# A slice of an array is a view into the same data, so modifying it\n",
        "# will modify the original array.\n",
        "print(mlblr[0, 1])   # Prints \"2\"\n",
        "mlblr_in[0, 0] = 77     # b[0, 0] is the same piece of data as a[0, 1]\n",
        "print(mlblr[0, 1])   # Prints \"77\""
      ],
      "execution_count": 77,
      "outputs": [
        {
          "output_type": "stream",
          "text": [
            "2\n",
            "77\n"
          ],
          "name": "stdout"
        }
      ]
    },
    {
      "metadata": {
        "id": "IZ4VwsoqLDds",
        "colab_type": "text"
      },
      "cell_type": "markdown",
      "source": [
        "You can also mix integer indexing with slice indexing.\n",
        "However, doing so will yield an array of lower rank than the original array.\n",
        "Note that this is quite different from the way that MATLAB handles array\n",
        "slicing:"
      ]
    },
    {
      "metadata": {
        "id": "HxPMolc6LDds",
        "colab_type": "code",
        "colab": {
          "base_uri": "https://localhost:8080/",
          "height": 119
        },
        "outputId": "033ee43c-ea27-4a3e-a290-29af49291bb3"
      },
      "cell_type": "code",
      "source": [
        "import numpy as np\n",
        "\n",
        "# Create the following rank 2 array with shape (3, 4)\n",
        "# [[ 1  2  3  4]\n",
        "#  [ 5  6  7  8]\n",
        "#  [ 9 10 11 12]]\n",
        "mlblr = np.array([[1,2,3,4], [5,6,7,8], [9,10,11,12]])\n",
        "\n",
        "# Two ways of accessing the data in the middle row of the array.\n",
        "# Mixing integer indexing with slices yields an array of lower rank,\n",
        "# while using only slices yields an array of the same rank as the\n",
        "# original array:\n",
        "eip_in = mlblr[1, :]    # Rank 1 view of the second row of a\n",
        "eip_out = mlblr[1:2, :]  # Rank 2 view of the second row of a\n",
        "print(eip_in, eip_in.shape)  # Prints \"[5 6 7 8] (4,)\"\n",
        "print(eip_out, eip_out.shape)  # Prints \"[[5 6 7 8]] (1, 4)\"\n",
        "\n",
        "# We can make the same distinction when accessing columns of an array:\n",
        "mlblr_in = mlblr[:, 1]\n",
        "mlblr_out = mlblr[:, 1:2]\n",
        "print(mlblr_in, mlblr_in.shape)  # Prints \"[ 2  6 10] (3,)\"\n",
        "print(mlblr_out, mlblr_out.shape)  # Prints \"[[ 2]\n",
        "                             #          [ 6]\n",
        "                             #          [10]] (3, 1)\""
      ],
      "execution_count": 76,
      "outputs": [
        {
          "output_type": "stream",
          "text": [
            "[5 6 7 8] (4,)\n",
            "[[5 6 7 8]] (1, 4)\n",
            "[ 2  6 10] (3,)\n",
            "[[ 2]\n",
            " [ 6]\n",
            " [10]] (3, 1)\n"
          ],
          "name": "stdout"
        }
      ]
    },
    {
      "metadata": {
        "id": "ubByBbcULDdv",
        "colab_type": "text"
      },
      "cell_type": "markdown",
      "source": [
        "**Integer array indexing:**\n",
        "When you index into numpy arrays using slicing, the resulting array view\n",
        "will always be a subarray of the original array. In contrast, integer array\n",
        "indexing allows you to construct arbitrary arrays using the data from another\n",
        "array. Here is an example:"
      ]
    },
    {
      "metadata": {
        "id": "0FE9AooRLDdv",
        "colab_type": "code",
        "colab": {
          "base_uri": "https://localhost:8080/",
          "height": 85
        },
        "outputId": "6da27924-f3e6-4939-e6ed-1a1203e96a8d"
      },
      "cell_type": "code",
      "source": [
        "import numpy as np\n",
        "\n",
        "mlblr = np.array([[1,2], [3, 4], [5, 6]])\n",
        "\n",
        "# An example of integer array indexing.\n",
        "# The returned array will have shape (3,) and\n",
        "print(mlblr[[0, 1, 2], [0, 1, 0]])  # Prints \"[1 4 5]\"\n",
        "\n",
        "# The above example of integer array indexing is equivalent to this:\n",
        "print(np.array([mlblr[0, 0], mlblr[1, 1], mlblr[2, 0]]))  # Prints \"[1 4 5]\"\n",
        "\n",
        "# When using integer array indexing, you can reuse the same\n",
        "# element from the source array:\n",
        "print(mlblr[[0, 0], [1, 1]])  # Prints \"[2 2]\"\n",
        "\n",
        "# Equivalent to the previous integer array indexing example\n",
        "print(np.array([mlblr[0, 1], mlblr[0, 1]]))  # Prints \"[2 2]\""
      ],
      "execution_count": 75,
      "outputs": [
        {
          "output_type": "stream",
          "text": [
            "[1 4 5]\n",
            "[1 4 5]\n",
            "[2 2]\n",
            "[2 2]\n"
          ],
          "name": "stdout"
        }
      ]
    },
    {
      "metadata": {
        "id": "fEz0oVaFLDdx",
        "colab_type": "text"
      },
      "cell_type": "markdown",
      "source": [
        "One useful trick with integer array indexing is selecting or mutating one\n",
        "element from each row of a matrix:"
      ]
    },
    {
      "metadata": {
        "id": "M3sR44rDLDdy",
        "colab_type": "code",
        "colab": {
          "base_uri": "https://localhost:8080/",
          "height": 170
        },
        "outputId": "e8e284a6-d13a-43a2-e58b-f74ff4c0fe00"
      },
      "cell_type": "code",
      "source": [
        "import numpy as np\n",
        "\n",
        "# Create a new array from which we will select elements\n",
        "mlblr = np.array([[1,2,3], [4,5,6], [7,8,9], [10, 11, 12]])\n",
        "\n",
        "print(mlblr)  # prints \"array([[ 1,  2,  3],\n",
        "          #                [ 4,  5,  6],\n",
        "          #                [ 7,  8,  9],\n",
        "          #                [10, 11, 12]])\"\n",
        "\n",
        "# Create an array of indices\n",
        "eip_in = np.array([0, 2, 0, 1])\n",
        "\n",
        "# Select one element from each row of a using the indices in b\n",
        "print(mlblr[np.arange(4), eip_in])  # Prints \"[ 1  6  7 11]\"\n",
        "\n",
        "# Mutate one element from each row of a using the indices in b\n",
        "mlblr[np.arange(4), eip_in] += 10\n",
        "\n",
        "print(mlblr)  # prints \"array([[11,  2,  3],\n",
        "          #                [ 4,  5, 16],\n",
        "          #                [17,  8,  9],\n",
        "          #                [10, 21, 12]])"
      ],
      "execution_count": 74,
      "outputs": [
        {
          "output_type": "stream",
          "text": [
            "[[ 1  2  3]\n",
            " [ 4  5  6]\n",
            " [ 7  8  9]\n",
            " [10 11 12]]\n",
            "[ 1  6  7 11]\n",
            "[[11  2  3]\n",
            " [ 4  5 16]\n",
            " [17  8  9]\n",
            " [10 21 12]]\n"
          ],
          "name": "stdout"
        }
      ]
    },
    {
      "metadata": {
        "id": "iToIO1OCLDdz",
        "colab_type": "text"
      },
      "cell_type": "markdown",
      "source": [
        "**Boolean array indexing:**\n",
        "Boolean array indexing lets you pick out arbitrary elements of an array.\n",
        "Frequently this type of indexing is used to select the elements of an array\n",
        "that satisfy some condition. Here is an example:"
      ]
    },
    {
      "metadata": {
        "id": "HyYY8eV7LDd0",
        "colab_type": "code",
        "colab": {
          "base_uri": "https://localhost:8080/",
          "height": 102
        },
        "outputId": "cb521a43-82fc-4f13-e097-8365561c456d"
      },
      "cell_type": "code",
      "source": [
        "import numpy as np\n",
        "\n",
        "mlblr = np.array([[1,2], [3, 4], [5, 6]])\n",
        "\n",
        "eip_in = (mlblr > 2)   # Find the elements of a that are bigger than 2;\n",
        "                     # this returns a numpy array of Booleans of the same\n",
        "                     # shape as a, where each slot of bool_idx tells\n",
        "                     # whether that element of a is > 2.\n",
        "\n",
        "print(eip_in)      # Prints \"[[False False]\n",
        "                     #          [ True  True]\n",
        "                     #          [ True  True]]\"\n",
        "\n",
        "# We use boolean array indexing to construct a rank 1 array\n",
        "# consisting of the elements of a corresponding to the True values\n",
        "# of bool_idx\n",
        "print(mlblr[eip_in])  # Prints \"[3 4 5 6]\"\n",
        "\n",
        "# We can do all of the above in a single concise statement:\n",
        "print(mlblr[mlblr > 2])     # Prints \"[3 4 5 6]\""
      ],
      "execution_count": 73,
      "outputs": [
        {
          "output_type": "stream",
          "text": [
            "[[False False]\n",
            " [ True  True]\n",
            " [ True  True]]\n",
            "[3 4 5 6]\n",
            "[3 4 5 6]\n"
          ],
          "name": "stdout"
        }
      ]
    },
    {
      "metadata": {
        "id": "QVpYAW7CLDd1",
        "colab_type": "text"
      },
      "cell_type": "markdown",
      "source": [
        "For brevity we have left out a lot of details about numpy array indexing;\n",
        "if you want to know more you should\n",
        "[read the documentation](http://docs.scipy.org/doc/numpy/reference/arrays.indexing.html).\n",
        "\n",
        "<a name='numpy-datatypes'></a>\n",
        "\n",
        "### Datatypes\n",
        "Every numpy array is a grid of elements of the same type.\n",
        "Numpy provides a large set of numeric datatypes that you can use to construct arrays.\n",
        "Numpy tries to guess a datatype when you create an array, but functions that construct\n",
        "arrays usually also include an optional argument to explicitly specify the datatype.\n",
        "Here is an example:"
      ]
    },
    {
      "metadata": {
        "id": "LdRlVhhDLDd3",
        "colab_type": "code",
        "colab": {
          "base_uri": "https://localhost:8080/",
          "height": 68
        },
        "outputId": "4d48525e-3bef-492b-f27d-9ace801e3956"
      },
      "cell_type": "code",
      "source": [
        "import numpy as np\n",
        "\n",
        "mlblr = np.array([1, 2])   # Let numpy choose the datatype\n",
        "print(mlblr.dtype)         # Prints \"int64\"\n",
        "\n",
        "mlblr = np.array([1.0, 2.0])   # Let numpy choose the datatype\n",
        "print(mlblr.dtype)             # Prints \"float64\"\n",
        "\n",
        "mlblr = np.array([1, 2], dtype=np.int64)   # Force a particular datatype\n",
        "print(mlblr.dtype)                         # Prints \"int64\""
      ],
      "execution_count": 72,
      "outputs": [
        {
          "output_type": "stream",
          "text": [
            "int64\n",
            "float64\n",
            "int64\n"
          ],
          "name": "stdout"
        }
      ]
    },
    {
      "metadata": {
        "id": "SrcOj2-6LDd5",
        "colab_type": "text"
      },
      "cell_type": "markdown",
      "source": [
        "You can read all about numpy datatypes\n",
        "[in the documentation](http://docs.scipy.org/doc/numpy/reference/arrays.dtypes.html).\n",
        "\n",
        "<a name='numpy-math'></a>\n",
        "\n",
        "### Array math\n",
        "Basic mathematical functions operate elementwise on arrays, and are available\n",
        "both as operator overloads and as functions in the numpy module:"
      ]
    },
    {
      "metadata": {
        "id": "w5KtQ7uaLDd5",
        "colab_type": "code",
        "colab": {
          "base_uri": "https://localhost:8080/",
          "height": 323
        },
        "outputId": "945c15fe-850f-44a3-8a4b-c63e28a05339"
      },
      "cell_type": "code",
      "source": [
        "import numpy as np\n",
        "\n",
        "eip = np.array([[1,2],[3,4]], dtype=np.float64)\n",
        "mlblr = np.array([[5,6],[7,8]], dtype=np.float64)\n",
        "\n",
        "# Elementwise sum; both produce the array\n",
        "# [[ 6.0  8.0]\n",
        "#  [10.0 12.0]]\n",
        "print(eip + mlblr)\n",
        "print(np.add(eip, mlblr))\n",
        "\n",
        "# Elementwise difference; both produce the array\n",
        "# [[-4.0 -4.0]\n",
        "#  [-4.0 -4.0]]\n",
        "print(eip - mlblr)\n",
        "print(np.subtract(eip, mlblr))\n",
        "\n",
        "# Elementwise product; both produce the array\n",
        "# [[ 5.0 12.0]\n",
        "#  [21.0 32.0]]\n",
        "print(eip * mlblr)\n",
        "print(np.multiply(eip, mlblr))\n",
        "\n",
        "# Elementwise division; both produce the array\n",
        "# [[ 0.2         0.33333333]\n",
        "#  [ 0.42857143  0.5       ]]\n",
        "print(eip / mlblr)\n",
        "print(np.divide(eip, mlblr))\n",
        "\n",
        "# Elementwise square root; produces the array\n",
        "# [[ 1.          1.41421356]\n",
        "#  [ 1.73205081  2.        ]]\n",
        "print(np.sqrt(eip))"
      ],
      "execution_count": 81,
      "outputs": [
        {
          "output_type": "stream",
          "text": [
            "[[ 6.  8.]\n",
            " [10. 12.]]\n",
            "[[ 6.  8.]\n",
            " [10. 12.]]\n",
            "[[-4. -4.]\n",
            " [-4. -4.]]\n",
            "[[-4. -4.]\n",
            " [-4. -4.]]\n",
            "[[ 5. 12.]\n",
            " [21. 32.]]\n",
            "[[ 5. 12.]\n",
            " [21. 32.]]\n",
            "[[0.2        0.33333333]\n",
            " [0.42857143 0.5       ]]\n",
            "[[0.2        0.33333333]\n",
            " [0.42857143 0.5       ]]\n",
            "[[1.         1.41421356]\n",
            " [1.73205081 2.        ]]\n"
          ],
          "name": "stdout"
        }
      ]
    },
    {
      "metadata": {
        "id": "U5N8uT-ELDd-",
        "colab_type": "text"
      },
      "cell_type": "markdown",
      "source": [
        "Note that unlike MATLAB, `*` is elementwise multiplication, not matrix\n",
        "multiplication. We instead use the `dot` function to compute inner\n",
        "products of vectors, to multiply a vector by a matrix, and to\n",
        "multiply matrices. `dot` is available both as a function in the numpy\n",
        "module and as an instance method of array objects:"
      ]
    },
    {
      "metadata": {
        "id": "cho3b0xbLDd_",
        "colab_type": "code",
        "colab": {
          "base_uri": "https://localhost:8080/",
          "height": 153
        },
        "outputId": "01167dd7-4882-4a71-8a64-df7210bf5342"
      },
      "cell_type": "code",
      "source": [
        "import numpy as np\n",
        "\n",
        "eip = np.array([[1,2],[3,4]])\n",
        "mlblr = np.array([[5,6],[7,8]])\n",
        "\n",
        "eip_in = np.array([9,10])\n",
        "eip_out = np.array([11, 12])\n",
        "\n",
        "# Inner product of vectors; both produce 219\n",
        "print(eip_in.dot(eip_out))\n",
        "print(np.dot(eip_in, eip_out))\n",
        "\n",
        "# Matrix / vector product; both produce the rank 1 array [29 67]\n",
        "print(eip.dot(eip_in))\n",
        "print(np.dot(eip, eip_in))\n",
        "\n",
        "# Matrix / matrix product; both produce the rank 2 array\n",
        "# [[19 22]\n",
        "#  [43 50]]\n",
        "print(eip.dot(mlblr))\n",
        "print(np.dot(eip, mlblr))"
      ],
      "execution_count": 82,
      "outputs": [
        {
          "output_type": "stream",
          "text": [
            "219\n",
            "219\n",
            "[29 67]\n",
            "[29 67]\n",
            "[[19 22]\n",
            " [43 50]]\n",
            "[[19 22]\n",
            " [43 50]]\n"
          ],
          "name": "stdout"
        }
      ]
    },
    {
      "metadata": {
        "id": "Lmo6vWQyLDeB",
        "colab_type": "text"
      },
      "cell_type": "markdown",
      "source": [
        "Numpy provides many useful functions for performing computations on\n",
        "arrays; one of the most useful is `sum`:"
      ]
    },
    {
      "metadata": {
        "id": "IBZmldHmLDeC",
        "colab_type": "code",
        "colab": {
          "base_uri": "https://localhost:8080/",
          "height": 68
        },
        "outputId": "b566da9d-2ede-403c-d1bc-1380fc3ec006"
      },
      "cell_type": "code",
      "source": [
        "import numpy as np\n",
        "\n",
        "eip = np.array([[1,2],[3,4]])\n",
        "\n",
        "print(np.sum(eip))  # Compute sum of all elements; prints \"10\"\n",
        "print(np.sum(eip, axis=0))  # Compute sum of each column; prints \"[4 6]\"\n",
        "print(np.sum(eip, axis=1))  # Compute sum of each row; prints \"[3 7]\""
      ],
      "execution_count": 83,
      "outputs": [
        {
          "output_type": "stream",
          "text": [
            "10\n",
            "[4 6]\n",
            "[3 7]\n"
          ],
          "name": "stdout"
        }
      ]
    },
    {
      "metadata": {
        "id": "ZdrbI3nTLDeD",
        "colab_type": "text"
      },
      "cell_type": "markdown",
      "source": [
        "You can find the full list of mathematical functions provided by numpy\n",
        "[in the documentation](http://docs.scipy.org/doc/numpy/reference/routines.math.html).\n",
        "\n",
        "Apart from computing mathematical functions using arrays, we frequently\n",
        "need to reshape or otherwise manipulate data in arrays. The simplest example\n",
        "of this type of operation is transposing a matrix; to transpose a matrix,\n",
        "simply use the `T` attribute of an array object:"
      ]
    },
    {
      "metadata": {
        "id": "3ud9dUOvLDeE",
        "colab_type": "code",
        "colab": {
          "base_uri": "https://localhost:8080/",
          "height": 119
        },
        "outputId": "14b01672-c80a-42cb-9193-945ee65541c4"
      },
      "cell_type": "code",
      "source": [
        "import numpy as np\n",
        "\n",
        "eip = np.array([[1,2], [3,4]])\n",
        "print(eip)    # Prints \"[[1 2]\n",
        "            #          [3 4]]\"\n",
        "print(eip.T)  # Prints \"[[1 3]\n",
        "            #          [2 4]]\"\n",
        "\n",
        "# Note that taking the transpose of a rank 1 array does nothing:\n",
        "eip_in = np.array([1,2,3])\n",
        "print(eip_in)    # Prints \"[1 2 3]\"\n",
        "print(eip_in.T)  # Prints \"[1 2 3]\""
      ],
      "execution_count": 84,
      "outputs": [
        {
          "output_type": "stream",
          "text": [
            "[[1 2]\n",
            " [3 4]]\n",
            "[[1 3]\n",
            " [2 4]]\n",
            "[1 2 3]\n",
            "[1 2 3]\n"
          ],
          "name": "stdout"
        }
      ]
    },
    {
      "metadata": {
        "id": "65zLf85lLDeH",
        "colab_type": "text"
      },
      "cell_type": "markdown",
      "source": [
        "Numpy provides many more functions for manipulating arrays; you can see the full list\n",
        "[in the documentation](http://docs.scipy.org/doc/numpy/reference/routines.array-manipulation.html).\n",
        "\n",
        "\n",
        "<a name='numpy-broadcasting'></a>\n",
        "\n",
        "### Broadcasting\n",
        "Broadcasting is a powerful mechanism that allows numpy to work with arrays of different\n",
        "shapes when performing arithmetic operations. Frequently we have a smaller array and a\n",
        "larger array, and we want to use the smaller array multiple times to perform some operation\n",
        "on the larger array.\n",
        "\n",
        "For example, suppose that we want to add a constant vector to each\n",
        "row of a matrix. We could do it like this:"
      ]
    },
    {
      "metadata": {
        "id": "FAPXgHi7LDeI",
        "colab_type": "code",
        "colab": {
          "base_uri": "https://localhost:8080/",
          "height": 85
        },
        "outputId": "c2e05924-6a18-4c2a-80d5-8f1a31f581a0"
      },
      "cell_type": "code",
      "source": [
        "import numpy as np\n",
        "\n",
        "# We will add the vector v to each row of the matrix x,\n",
        "# storing the result in the matrix y\n",
        "eip = np.array([[1,2,3], [4,5,6], [7,8,9], [10, 11, 12]])\n",
        "eip_in = np.array([1, 0, 1])\n",
        "eip_out = np.empty_like(eip)   # Create an empty matrix with the same shape as x\n",
        "\n",
        "# Add the vector v to each row of the matrix x with an explicit loop\n",
        "for i in range(4):\n",
        "    eip_out[i, :] = eip[i, :] + eip_in\n",
        "\n",
        "# Now y is the following\n",
        "# [[ 2  2  4]\n",
        "#  [ 5  5  7]\n",
        "#  [ 8  8 10]\n",
        "#  [11 11 13]]\n",
        "print(eip_out)"
      ],
      "execution_count": 85,
      "outputs": [
        {
          "output_type": "stream",
          "text": [
            "[[ 2  2  4]\n",
            " [ 5  5  7]\n",
            " [ 8  8 10]\n",
            " [11 11 13]]\n"
          ],
          "name": "stdout"
        }
      ]
    },
    {
      "metadata": {
        "id": "VLe07lVDLDeK",
        "colab_type": "text"
      },
      "cell_type": "markdown",
      "source": [
        "This works; however when the matrix `x` is very large, computing an explicit loop\n",
        "in Python could be slow. Note that adding the vector `v` to each row of the matrix\n",
        "`x` is equivalent to forming a matrix `vv` by stacking multiple copies of `v` vertically,\n",
        "then performing elementwise summation of `x` and `vv`. We could implement this\n",
        "approach like this:"
      ]
    },
    {
      "metadata": {
        "id": "5H-sC3KULDeL",
        "colab_type": "code",
        "colab": {
          "base_uri": "https://localhost:8080/",
          "height": 153
        },
        "outputId": "bde5244c-f45a-4f08-ced7-d85ca6ad1bff"
      },
      "cell_type": "code",
      "source": [
        "import numpy as np\n",
        "\n",
        "# We will add the vector v to each row of the matrix x,\n",
        "# storing the result in the matrix y\n",
        "eip = np.array([[1,2,3], [4,5,6], [7,8,9], [10, 11, 12]])\n",
        "eip_in = np.array([1, 0, 1])\n",
        "eip_out = np.tile(eip_in, (4, 1))   # Stack 4 copies of v on top of each other\n",
        "print(eip_out)                 # Prints \"[[1 0 1]\n",
        "                          #          [1 0 1]\n",
        "                          #          [1 0 1]\n",
        "                          #          [1 0 1]]\"\n",
        "mlblr = eip + eip_out  # Add x and vv elementwise\n",
        "print(mlblr)  # Prints \"[[ 2  2  4\n",
        "          #          [ 5  5  7]\n",
        "          #          [ 8  8 10]\n",
        "          #          [11 11 13]]\""
      ],
      "execution_count": 86,
      "outputs": [
        {
          "output_type": "stream",
          "text": [
            "[[1 0 1]\n",
            " [1 0 1]\n",
            " [1 0 1]\n",
            " [1 0 1]]\n",
            "[[ 2  2  4]\n",
            " [ 5  5  7]\n",
            " [ 8  8 10]\n",
            " [11 11 13]]\n"
          ],
          "name": "stdout"
        }
      ]
    },
    {
      "metadata": {
        "id": "YfAP8uqaLDeM",
        "colab_type": "text"
      },
      "cell_type": "markdown",
      "source": [
        "Numpy broadcasting allows us to perform this computation without actually\n",
        "creating multiple copies of `v`. Consider this version, using broadcasting:"
      ]
    },
    {
      "metadata": {
        "id": "oWLx8vfxLDeO",
        "colab_type": "code",
        "colab": {
          "base_uri": "https://localhost:8080/",
          "height": 85
        },
        "outputId": "a414d461-0efe-41f1-f288-86ca6ce6b39d"
      },
      "cell_type": "code",
      "source": [
        "import numpy as np\n",
        "\n",
        "# We will add the vector v to each row of the matrix x,\n",
        "# storing the result in the matrix y\n",
        "eip = np.array([[1,2,3], [4,5,6], [7,8,9], [10, 11, 12]])\n",
        "eip_in = np.array([1, 0, 1])\n",
        "mlblr = eip + eip_in  # Add v to each row of x using broadcasting\n",
        "print(mlblr)  # Prints \"[[ 2  2  4]\n",
        "          #          [ 5  5  7]\n",
        "          #          [ 8  8 10]\n",
        "          #          [11 11 13]]\""
      ],
      "execution_count": 87,
      "outputs": [
        {
          "output_type": "stream",
          "text": [
            "[[ 2  2  4]\n",
            " [ 5  5  7]\n",
            " [ 8  8 10]\n",
            " [11 11 13]]\n"
          ],
          "name": "stdout"
        }
      ]
    },
    {
      "metadata": {
        "id": "9eAB1vV-LDeQ",
        "colab_type": "text"
      },
      "cell_type": "markdown",
      "source": [
        "The line `y = x + v` works even though `x` has shape `(4, 3)` and `v` has shape\n",
        "`(3,)` due to broadcasting; this line works as if `v` actually had shape `(4, 3)`,\n",
        "where each row was a copy of `v`, and the sum was performed elementwise.\n",
        "\n",
        "Broadcasting two arrays together follows these rules:\n",
        "\n",
        "1. If the arrays do not have the same rank, prepend the shape of the lower rank array\n",
        "   with 1s until both shapes have the same length.\n",
        "2. The two arrays are said to be *compatible* in a dimension if they have the same\n",
        "   size in the dimension, or if one of the arrays has size 1 in that dimension.\n",
        "3. The arrays can be broadcast together if they are compatible in all dimensions.\n",
        "4. After broadcasting, each array behaves as if it had shape equal to the elementwise\n",
        "   maximum of shapes of the two input arrays.\n",
        "5. In any dimension where one array had size 1 and the other array had size greater than 1,\n",
        "   the first array behaves as if it were copied along that dimension\n",
        "\n",
        "If this explanation does not make sense, try reading the explanation\n",
        "[from the documentation](http://docs.scipy.org/doc/numpy/user/basics.broadcasting.html)\n",
        "or [this explanation](http://wiki.scipy.org/EricsBroadcastingDoc).\n",
        "\n",
        "Functions that support broadcasting are known as *universal functions*. You can find\n",
        "the list of all universal functions\n",
        "[in the documentation](http://docs.scipy.org/doc/numpy/reference/ufuncs.html#available-ufuncs).\n",
        "\n",
        "Here are some applications of broadcasting:"
      ]
    },
    {
      "metadata": {
        "id": "eHUD_25eLDeR",
        "colab_type": "code",
        "colab": {
          "base_uri": "https://localhost:8080/",
          "height": 204
        },
        "outputId": "eb45f993-28ee-4587-f8f2-e939ca477b00"
      },
      "cell_type": "code",
      "source": [
        "import numpy as np\n",
        "\n",
        "# Compute outer product of vectors\n",
        "eip = np.array([1,2,3])  # v has shape (3,)\n",
        "eip_in = np.array([4,5])    # w has shape (2,)\n",
        "# To compute an outer product, we first reshape v to be a column\n",
        "# vector of shape (3, 1); we can then broadcast it against w to yield\n",
        "# an output of shape (3, 2), which is the outer product of v and w:\n",
        "# [[ 4  5]\n",
        "#  [ 8 10]\n",
        "#  [12 15]]\n",
        "print(np.reshape(eip, (3, 1)) * eip_in)\n",
        "\n",
        "# Add a vector to each row of a matrix\n",
        "mlblr = np.array([[1,2,3], [4,5,6]])\n",
        "# x has shape (2, 3) and v has shape (3,) so they broadcast to (2, 3),\n",
        "# giving the following matrix:\n",
        "# [[2 4 6]\n",
        "#  [5 7 9]]\n",
        "print(mlblr+eip)\n",
        "\n",
        "# Add a vector to each column of a matrix\n",
        "# x has shape (2, 3) and w has shape (2,).\n",
        "# If we transpose x then it has shape (3, 2) and can be broadcast\n",
        "# against w to yield a result of shape (3, 2); transposing this result\n",
        "# yields the final result of shape (2, 3) which is the matrix x with\n",
        "# the vector w added to each column. Gives the following matrix:\n",
        "# [[ 5  6  7]\n",
        "#  [ 9 10 11]]\n",
        "print((mlblr.T + eip_in).T)\n",
        "# Another solution is to reshape w to be a column vector of shape (2, 1);\n",
        "# we can then broadcast it directly against x to produce the same\n",
        "# output.\n",
        "print(mlblr + np.reshape(eip_in, (2, 1)))\n",
        "\n",
        "# Multiply a matrix by a constant:\n",
        "# x has shape (2, 3). Numpy treats scalars as arrays of shape ();\n",
        "# these can be broadcast together to shape (2, 3), producing the\n",
        "# following array:\n",
        "# [[ 2  4  6]\n",
        "#  [ 8 10 12]]\n",
        "print(mlblr * 2)"
      ],
      "execution_count": 91,
      "outputs": [
        {
          "output_type": "stream",
          "text": [
            "[[ 4  5]\n",
            " [ 8 10]\n",
            " [12 15]]\n",
            "[[2 4 6]\n",
            " [5 7 9]]\n",
            "[[ 5  6  7]\n",
            " [ 9 10 11]]\n",
            "[[ 5  6  7]\n",
            " [ 9 10 11]]\n",
            "[[ 2  4  6]\n",
            " [ 8 10 12]]\n"
          ],
          "name": "stdout"
        }
      ]
    },
    {
      "metadata": {
        "id": "mIffMY8LLDeU",
        "colab_type": "text"
      },
      "cell_type": "markdown",
      "source": [
        "Broadcasting typically makes your code more concise and faster, so you\n",
        "should strive to use it where possible.\n",
        "\n",
        "### Numpy Documentation\n",
        "This brief overview has touched on many of the important things that you need to\n",
        "know about numpy, but is far from complete. Check out the\n",
        "[numpy reference](http://docs.scipy.org/doc/numpy/reference/)\n",
        "to find out much more about numpy.\n",
        "\n",
        "<a name='scipy'></a>\n",
        "\n",
        "## SciPy\n",
        "Numpy provides a high-performance multidimensional array and basic tools to\n",
        "compute with and manipulate these arrays.\n",
        "[SciPy](http://docs.scipy.org/doc/scipy/reference/)\n",
        "builds on this, and provides\n",
        "a large number of functions that operate on numpy arrays and are useful for\n",
        "different types of scientific and engineering applications.\n",
        "\n",
        "The best way to get familiar with SciPy is to\n",
        "[browse the documentation](http://docs.scipy.org/doc/scipy/reference/index.html).\n",
        "We will highlight some parts of SciPy that you might find useful for this class.\n",
        "\n",
        "<a name='scipy-image'></a>\n",
        "\n",
        "### Image operations\n",
        "SciPy provides some basic functions to work with images.\n",
        "For example, it has functions to read images from disk into numpy arrays,\n",
        "to write numpy arrays to disk as images, and to resize images.\n",
        "Here is a simple example that showcases these functions:"
      ]
    },
    {
      "metadata": {
        "id": "bBm2BltELDeV",
        "colab_type": "code",
        "colab": {
          "base_uri": "https://localhost:8080/",
          "height": 470
        },
        "outputId": "127512d4-730f-4f56-aea3-5ecb5c9ec309"
      },
      "cell_type": "code",
      "source": [
        "from scipy.misc import imread, imsave, imresize\n",
        "\n",
        "# Read an JPEG image into a numpy array\n",
        "eip = imread('assets/cat.jpg')\n",
        "print(eip.dtype, eip.shape)  # Prints \"uint8 (400, 248, 3)\"\n",
        "\n",
        "# We can tint the image by scaling each of the color channels\n",
        "# by a different scalar constant. The image has shape (400, 248, 3);\n",
        "# we multiply it by the array [1, 0.95, 0.9] of shape (3,);\n",
        "# numpy broadcasting means that this leaves the red channel unchanged,\n",
        "# and multiplies the green and blue channels by 0.95 and 0.9\n",
        "# respectively.\n",
        "mlbblr = eip * [1, 0.95, 0.9]\n",
        "\n",
        "# Resize the tinted image to be 300 by 300 pixels.\n",
        "mlbblr = imresize(mlbblr, (300, 300))\n",
        "\n",
        "# Write the tinted image back to disk\n",
        "imsave('assets/cat_tinted.jpg', mlbblr)"
      ],
      "execution_count": 102,
      "outputs": [
        {
          "output_type": "error",
          "ename": "FileNotFoundError",
          "evalue": "ignored",
          "traceback": [
            "\u001b[0;31m---------------------------------------------------------------------------\u001b[0m",
            "\u001b[0;31mFileNotFoundError\u001b[0m                         Traceback (most recent call last)",
            "\u001b[0;32m<ipython-input-102-4576f913f6bf>\u001b[0m in \u001b[0;36m<module>\u001b[0;34m()\u001b[0m\n\u001b[1;32m      2\u001b[0m \u001b[0;34m\u001b[0m\u001b[0m\n\u001b[1;32m      3\u001b[0m \u001b[0;31m# Read an JPEG image into a numpy array\u001b[0m\u001b[0;34m\u001b[0m\u001b[0;34m\u001b[0m\u001b[0m\n\u001b[0;32m----> 4\u001b[0;31m \u001b[0meip\u001b[0m \u001b[0;34m=\u001b[0m \u001b[0mimread\u001b[0m\u001b[0;34m(\u001b[0m\u001b[0;34m'assets/cat.jpg'\u001b[0m\u001b[0;34m)\u001b[0m\u001b[0;34m\u001b[0m\u001b[0m\n\u001b[0m\u001b[1;32m      5\u001b[0m \u001b[0mprint\u001b[0m\u001b[0;34m(\u001b[0m\u001b[0meip\u001b[0m\u001b[0;34m.\u001b[0m\u001b[0mdtype\u001b[0m\u001b[0;34m,\u001b[0m \u001b[0meip\u001b[0m\u001b[0;34m.\u001b[0m\u001b[0mshape\u001b[0m\u001b[0;34m)\u001b[0m  \u001b[0;31m# Prints \"uint8 (400, 248, 3)\"\u001b[0m\u001b[0;34m\u001b[0m\u001b[0m\n\u001b[1;32m      6\u001b[0m \u001b[0;34m\u001b[0m\u001b[0m\n",
            "\u001b[0;32m/usr/local/lib/python3.6/dist-packages/scipy/misc/pilutil.py\u001b[0m in \u001b[0;36mimread\u001b[0;34m(name, flatten, mode)\u001b[0m\n\u001b[1;32m    154\u001b[0m     \"\"\"\n\u001b[1;32m    155\u001b[0m \u001b[0;34m\u001b[0m\u001b[0m\n\u001b[0;32m--> 156\u001b[0;31m     \u001b[0mim\u001b[0m \u001b[0;34m=\u001b[0m \u001b[0mImage\u001b[0m\u001b[0;34m.\u001b[0m\u001b[0mopen\u001b[0m\u001b[0;34m(\u001b[0m\u001b[0mname\u001b[0m\u001b[0;34m)\u001b[0m\u001b[0;34m\u001b[0m\u001b[0m\n\u001b[0m\u001b[1;32m    157\u001b[0m     \u001b[0;32mreturn\u001b[0m \u001b[0mfromimage\u001b[0m\u001b[0;34m(\u001b[0m\u001b[0mim\u001b[0m\u001b[0;34m,\u001b[0m \u001b[0mflatten\u001b[0m\u001b[0;34m=\u001b[0m\u001b[0mflatten\u001b[0m\u001b[0;34m,\u001b[0m \u001b[0mmode\u001b[0m\u001b[0;34m=\u001b[0m\u001b[0mmode\u001b[0m\u001b[0;34m)\u001b[0m\u001b[0;34m\u001b[0m\u001b[0m\n\u001b[1;32m    158\u001b[0m \u001b[0;34m\u001b[0m\u001b[0m\n",
            "\u001b[0;32m/usr/local/lib/python3.6/dist-packages/PIL/Image.py\u001b[0m in \u001b[0;36mopen\u001b[0;34m(fp, mode)\u001b[0m\n\u001b[1;32m   2310\u001b[0m \u001b[0;34m\u001b[0m\u001b[0m\n\u001b[1;32m   2311\u001b[0m     \u001b[0;32mif\u001b[0m \u001b[0mfilename\u001b[0m\u001b[0;34m:\u001b[0m\u001b[0;34m\u001b[0m\u001b[0m\n\u001b[0;32m-> 2312\u001b[0;31m         \u001b[0mfp\u001b[0m \u001b[0;34m=\u001b[0m \u001b[0mbuiltins\u001b[0m\u001b[0;34m.\u001b[0m\u001b[0mopen\u001b[0m\u001b[0;34m(\u001b[0m\u001b[0mfilename\u001b[0m\u001b[0;34m,\u001b[0m \u001b[0;34m\"rb\"\u001b[0m\u001b[0;34m)\u001b[0m\u001b[0;34m\u001b[0m\u001b[0m\n\u001b[0m\u001b[1;32m   2313\u001b[0m \u001b[0;34m\u001b[0m\u001b[0m\n\u001b[1;32m   2314\u001b[0m     \u001b[0;32mtry\u001b[0m\u001b[0;34m:\u001b[0m\u001b[0;34m\u001b[0m\u001b[0m\n",
            "\u001b[0;31mFileNotFoundError\u001b[0m: [Errno 2] No such file or directory: 'assets/cat.jpg'"
          ]
        }
      ]
    },
    {
      "metadata": {
        "id": "Pimp9Am-LDeW",
        "colab_type": "text"
      },
      "cell_type": "markdown",
      "source": [
        "<div class='fig figcenter fighighlight'>\n",
        "  <img src='assets/cat.jpg'>\n",
        "  <img src='assets/cat_tinted.jpg'>\n",
        "  <div class='figcaption'>\n",
        "    Left: The original image.\n",
        "    Right: The tinted and resized image.\n",
        "  </div>\n",
        "</div>\n",
        "\n",
        "<a name='scipy-matlab'></a>\n",
        "\n",
        "### MATLAB files\n",
        "The functions `scipy.io.loadmat` and `scipy.io.savemat` allow you to read and\n",
        "write MATLAB files. You can read about them\n",
        "[in the documentation](http://docs.scipy.org/doc/scipy/reference/io.html).\n",
        "\n",
        "<a name='scipy-dist'></a>\n",
        "\n",
        "### Distance between points\n",
        "SciPy defines some useful functions for computing distances between sets of points.\n",
        "\n",
        "The function `scipy.spatial.distance.pdist` computes the distance between all pairs\n",
        "of points in a given set:"
      ]
    },
    {
      "metadata": {
        "id": "QRfnQG5hLDeX",
        "colab_type": "code",
        "colab": {}
      },
      "cell_type": "code",
      "source": [
        "import numpy as np\n",
        "from scipy.spatial.distance import pdist, squareform\n",
        "\n",
        "# Create the following array where each row is a point in 2D space:\n",
        "# [[0 1]\n",
        "#  [1 0]\n",
        "#  [2 0]]\n",
        "x = np.array([[0, 1], [1, 0], [2, 0]])\n",
        "print(x)\n",
        "\n",
        "# Compute the Euclidean distance between all rows of x.\n",
        "# d[i, j] is the Euclidean distance between x[i, :] and x[j, :],\n",
        "# and d is the following array:\n",
        "# [[ 0.          1.41421356  2.23606798]\n",
        "#  [ 1.41421356  0.          1.        ]\n",
        "#  [ 2.23606798  1.          0.        ]]\n",
        "d = squareform(pdist(x, 'euclidean'))\n",
        "print(d)"
      ],
      "execution_count": 0,
      "outputs": []
    },
    {
      "metadata": {
        "id": "PIW5abO6LDeZ",
        "colab_type": "text"
      },
      "cell_type": "markdown",
      "source": [
        "You can read all the details about this function\n",
        "[in the documentation](http://docs.scipy.org/doc/scipy/reference/generated/scipy.spatial.distance.pdist.html).\n",
        "\n",
        "A similar function (`scipy.spatial.distance.cdist`) computes the distance between all pairs\n",
        "across two sets of points; you can read about it\n",
        "[in the documentation](http://docs.scipy.org/doc/scipy/reference/generated/scipy.spatial.distance.cdist.html).\n",
        "\n",
        "<a name='matplotlib'></a>\n",
        "\n",
        "## Matplotlib\n",
        "[Matplotlib](http://matplotlib.org/) is a plotting library.\n",
        "In this section give a brief introduction to the `matplotlib.pyplot` module,\n",
        "which provides a plotting system similar to that of MATLAB.\n",
        "\n",
        "<a name='matplotlib-plot'></a>\n",
        "\n",
        "### Plotting\n",
        "The most important function in matplotlib is `plot`,\n",
        "which allows you to plot 2D data. Here is a simple example:"
      ]
    },
    {
      "metadata": {
        "id": "ykqjsFFNLDea",
        "colab_type": "code",
        "colab": {}
      },
      "cell_type": "code",
      "source": [
        "import numpy as np\n",
        "import matplotlib.pyplot as plt\n",
        "\n",
        "# Compute the x and y coordinates for points on a sine curve\n",
        "x = np.arange(0, 3 * np.pi, 0.1)\n",
        "y = np.sin(x)\n",
        "\n",
        "# Plot the points using matplotlib\n",
        "plt.plot(x, y)\n",
        "plt.show()  # You must call plt.show() to make graphics appear."
      ],
      "execution_count": 0,
      "outputs": []
    },
    {
      "metadata": {
        "id": "Tnjrie0SLDec",
        "colab_type": "text"
      },
      "cell_type": "markdown",
      "source": [
        "Running this code produces the following plot:\n",
        "\n",
        "<div class='fig figcenter fighighlight'>\n",
        "  <img src='assets/sine.png'>\n",
        "</div>\n",
        "\n",
        "With just a little bit of extra work we can easily plot multiple lines\n",
        "at once, and add a title, legend, and axis labels:"
      ]
    },
    {
      "metadata": {
        "id": "q2jOgJQpLDec",
        "colab_type": "code",
        "colab": {}
      },
      "cell_type": "code",
      "source": [
        "import numpy as np\n",
        "import matplotlib.pyplot as plt\n",
        "\n",
        "# Compute the x and y coordinates for points on sine and cosine curves\n",
        "x = np.arange(0, 3 * np.pi, 0.1)\n",
        "y_sin = np.sin(x)\n",
        "y_cos = np.cos(x)\n",
        "\n",
        "# Plot the points using matplotlib\n",
        "plt.plot(x, y_sin)\n",
        "plt.plot(x, y_cos)\n",
        "plt.xlabel('x axis label')\n",
        "plt.ylabel('y axis label')\n",
        "plt.title('Sine and Cosine')\n",
        "plt.legend(['Sine', 'Cosine'])\n",
        "plt.show()"
      ],
      "execution_count": 0,
      "outputs": []
    },
    {
      "metadata": {
        "id": "WGklOrt0LDee",
        "colab_type": "text"
      },
      "cell_type": "markdown",
      "source": [
        "<div class='fig figcenter fighighlight'>\n",
        "  <img src='assets/sine_cosine.png'>\n",
        "</div>\n",
        "\n",
        "You can read much more about the `plot` function\n",
        "[in the documentation](http://matplotlib.org/api/pyplot_api.html#matplotlib.pyplot.plot).\n",
        "\n",
        "<a name='matplotlib-subplots'></a>\n",
        "\n",
        "### Subplots\n",
        "You can plot different things in the same figure using the `subplot` function.\n",
        "Here is an example:"
      ]
    },
    {
      "metadata": {
        "id": "OA3c66nqLDee",
        "colab_type": "code",
        "colab": {
          "base_uri": "https://localhost:8080/",
          "height": 362
        },
        "outputId": "10db1bbb-6b16-4780-b948-8e4b463114d9"
      },
      "cell_type": "code",
      "source": [
        "import numpy as np\n",
        "import matplotlib.pyplot as plt\n",
        "\n",
        "# Compute the x and y coordinates for points on sine and cosine curves\n",
        "x = np.arange(0, 3 * np.pi, 0.1)\n",
        "y_sin = np.sin(x)\n",
        "y_cos = np.cos(x)\n",
        "\n",
        "# Set up a subplot grid that has height 2 and width 1,\n",
        "# and set the first such subplot as active.\n",
        "plt.subplot(2, 1, 1)\n",
        "\n",
        "# Make the first plot\n",
        "plt.plot(x, y_sin)\n",
        "plt.title('Sine')\n",
        "\n",
        "# Set the second subplot as active, and make the second plot.\n",
        "plt.subplot(2, 1, 2)\n",
        "plt.plot(x, y_cos)\n",
        "plt.title('Cosine')\n",
        "\n",
        "# Show the figure.\n",
        "plt.show()"
      ],
      "execution_count": 0,
      "outputs": [
        {
          "output_type": "display_data",
          "data": {
            "image/png": "[encoded data removed]",
            "text/plain": [
              "<matplotlib.figure.Figure at 0x7fb95286b0b8>"
            ]
          },
          "metadata": {
            "tags": []
          }
        }
      ]
    },
    {
      "metadata": {
        "id": "Fzd1uaElLDei",
        "colab_type": "text"
      },
      "cell_type": "markdown",
      "source": [
        "<div class='fig figcenter fighighlight'>\n",
        "  <img src='assets/sine_cosine_subplot.png'>\n",
        "</div>\n",
        "\n",
        "You can read much more about the `subplot` function\n",
        "[in the documentation](http://matplotlib.org/api/pyplot_api.html#matplotlib.pyplot.subplot).\n",
        "\n",
        "<a name='matplotlib-images'></a>\n",
        "\n",
        "### Images\n",
        "You can use the `imshow` function to show images. Here is an example:"
      ]
    },
    {
      "metadata": {
        "id": "OcGp2RJULDej",
        "colab_type": "code",
        "colab": {
          "base_uri": "https://localhost:8080/",
          "height": 470
        },
        "outputId": "69c2a6a4-6149-4037-9528-b329b1bb4181"
      },
      "cell_type": "code",
      "source": [
        "import numpy as np\n",
        "from scipy.misc import imread, imresize\n",
        "import matplotlib.pyplot as plt\n",
        "\n",
        "img = imread('assets/cat.jpg')\n",
        "img_tinted = img * [1, 0.95, 0.9]\n",
        "\n",
        "# Show the original image\n",
        "plt.subplot(1, 2, 1)\n",
        "plt.imshow(img)\n",
        "\n",
        "# Show the tinted image\n",
        "plt.subplot(1, 2, 2)\n",
        "\n",
        "# A slight gotcha with imshow is that it might give strange results\n",
        "# if presented with data that is not uint8. To work around this, we\n",
        "# explicitly cast the image to uint8 before displaying it.\n",
        "plt.imshow(np.uint8(img_tinted))\n",
        "plt.show()"
      ],
      "execution_count": 0,
      "outputs": [
        {
          "output_type": "error",
          "ename": "FileNotFoundError",
          "evalue": "ignored",
          "traceback": [
            "\u001b[0;31m---------------------------------------------------------------------------\u001b[0m",
            "\u001b[0;31mFileNotFoundError\u001b[0m                         Traceback (most recent call last)",
            "\u001b[0;32m<ipython-input-3-1c820af4d25f>\u001b[0m in \u001b[0;36m<module>\u001b[0;34m()\u001b[0m\n\u001b[1;32m      3\u001b[0m \u001b[0;32mimport\u001b[0m \u001b[0mmatplotlib\u001b[0m\u001b[0;34m.\u001b[0m\u001b[0mpyplot\u001b[0m \u001b[0;32mas\u001b[0m \u001b[0mplt\u001b[0m\u001b[0;34m\u001b[0m\u001b[0m\n\u001b[1;32m      4\u001b[0m \u001b[0;34m\u001b[0m\u001b[0m\n\u001b[0;32m----> 5\u001b[0;31m \u001b[0mimg\u001b[0m \u001b[0;34m=\u001b[0m \u001b[0mimread\u001b[0m\u001b[0;34m(\u001b[0m\u001b[0;34m'assets/cat.jpg'\u001b[0m\u001b[0;34m)\u001b[0m\u001b[0;34m\u001b[0m\u001b[0m\n\u001b[0m\u001b[1;32m      6\u001b[0m \u001b[0mimg_tinted\u001b[0m \u001b[0;34m=\u001b[0m \u001b[0mimg\u001b[0m \u001b[0;34m*\u001b[0m \u001b[0;34m[\u001b[0m\u001b[0;36m1\u001b[0m\u001b[0;34m,\u001b[0m \u001b[0;36m0.95\u001b[0m\u001b[0;34m,\u001b[0m \u001b[0;36m0.9\u001b[0m\u001b[0;34m]\u001b[0m\u001b[0;34m\u001b[0m\u001b[0m\n\u001b[1;32m      7\u001b[0m \u001b[0;34m\u001b[0m\u001b[0m\n",
            "\u001b[0;32m/usr/local/lib/python3.6/dist-packages/scipy/misc/pilutil.py\u001b[0m in \u001b[0;36mimread\u001b[0;34m(name, flatten, mode)\u001b[0m\n\u001b[1;32m    154\u001b[0m     \"\"\"\n\u001b[1;32m    155\u001b[0m \u001b[0;34m\u001b[0m\u001b[0m\n\u001b[0;32m--> 156\u001b[0;31m     \u001b[0mim\u001b[0m \u001b[0;34m=\u001b[0m \u001b[0mImage\u001b[0m\u001b[0;34m.\u001b[0m\u001b[0mopen\u001b[0m\u001b[0;34m(\u001b[0m\u001b[0mname\u001b[0m\u001b[0;34m)\u001b[0m\u001b[0;34m\u001b[0m\u001b[0m\n\u001b[0m\u001b[1;32m    157\u001b[0m     \u001b[0;32mreturn\u001b[0m \u001b[0mfromimage\u001b[0m\u001b[0;34m(\u001b[0m\u001b[0mim\u001b[0m\u001b[0;34m,\u001b[0m \u001b[0mflatten\u001b[0m\u001b[0;34m=\u001b[0m\u001b[0mflatten\u001b[0m\u001b[0;34m,\u001b[0m \u001b[0mmode\u001b[0m\u001b[0;34m=\u001b[0m\u001b[0mmode\u001b[0m\u001b[0;34m)\u001b[0m\u001b[0;34m\u001b[0m\u001b[0m\n\u001b[1;32m    158\u001b[0m \u001b[0;34m\u001b[0m\u001b[0m\n",
            "\u001b[0;32m/usr/local/lib/python3.6/dist-packages/PIL/Image.py\u001b[0m in \u001b[0;36mopen\u001b[0;34m(fp, mode)\u001b[0m\n\u001b[1;32m   2310\u001b[0m \u001b[0;34m\u001b[0m\u001b[0m\n\u001b[1;32m   2311\u001b[0m     \u001b[0;32mif\u001b[0m \u001b[0mfilename\u001b[0m\u001b[0;34m:\u001b[0m\u001b[0;34m\u001b[0m\u001b[0m\n\u001b[0;32m-> 2312\u001b[0;31m         \u001b[0mfp\u001b[0m \u001b[0;34m=\u001b[0m \u001b[0mbuiltins\u001b[0m\u001b[0;34m.\u001b[0m\u001b[0mopen\u001b[0m\u001b[0;34m(\u001b[0m\u001b[0mfilename\u001b[0m\u001b[0;34m,\u001b[0m \u001b[0;34m\"rb\"\u001b[0m\u001b[0;34m)\u001b[0m\u001b[0;34m\u001b[0m\u001b[0m\n\u001b[0m\u001b[1;32m   2313\u001b[0m \u001b[0;34m\u001b[0m\u001b[0m\n\u001b[1;32m   2314\u001b[0m     \u001b[0;32mtry\u001b[0m\u001b[0;34m:\u001b[0m\u001b[0;34m\u001b[0m\u001b[0m\n",
            "\u001b[0;31mFileNotFoundError\u001b[0m: [Errno 2] No such file or directory: 'assets/cat.jpg'"
          ]
        }
      ]
    },
    {
      "metadata": {
        "id": "Oz-nlo54LDel",
        "colab_type": "text"
      },
      "cell_type": "markdown",
      "source": [
        "<div class='fig figcenter fighighlight'>\n",
        "  <img src='assets/cat_tinted_imshow.png'>\n",
        "</div>"
      ]
    }
  ]
}