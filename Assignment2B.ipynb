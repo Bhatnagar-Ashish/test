{
  "nbformat": 4,
  "nbformat_minor": 0,
  "metadata": {
    "colab": {
      "name": "Assignment2B.ipynb",
      "version": "0.3.2",
      "provenance": []
    },
    "kernelspec": {
      "name": "python3",
      "display_name": "Python 3"
    }
  },
  "cells": [
    {
      "cell_type": "markdown",
      "metadata": {
        "id": "view-in-github",
        "colab_type": "text"
      },
      "source": [
        "[View in Colaboratory](https://colab.research.google.com/github/Bhatnagar-Ashish/test/blob/master/Assignment2B.ipynb)"
      ]
    },
    {
      "metadata": {
        "id": "jJ3fTewDsJ6B",
        "colab_type": "text"
      },
      "cell_type": "markdown",
      "source": [
        "## Step 1: Read input and output\n",
        "\n"
      ]
    },
    {
      "metadata": {
        "id": "th4SymSOrrVG",
        "colab_type": "code",
        "colab": {
          "base_uri": "https://localhost:8080/",
          "height": 153
        },
        "outputId": "23e289e7-db42-4627-fe64-e5180dd076e4"
      },
      "cell_type": "code",
      "source": [
        "import numpy as np\n",
        "\n",
        "def sigmoid(x):   # Define sigmoid function.\n",
        "   return 1 / (1 + np.exp(-x))\n",
        "  \n",
        "def slope(x):      # Define Slope function.\n",
        "    return x*(1-x)\n",
        "  \n",
        "x=np.array([[1,0,0,0],[0,0,0,1],[0,1,1,0]], dtype=int)\n",
        "print(\"Input: \")\n",
        "print(x)\n",
        "\n",
        "y=np.array([[1],[0],[0]])\n",
        "print(\"Y: \")\n",
        "print(y)"
      ],
      "execution_count": 36,
      "outputs": [
        {
          "output_type": "stream",
          "text": [
            "Input: \n",
            "[[1 0 0 0]\n",
            " [0 0 0 1]\n",
            " [0 1 1 0]]\n",
            "Y: \n",
            "[[1]\n",
            " [0]\n",
            " [0]]\n"
          ],
          "name": "stdout"
        }
      ]
    },
    {
      "metadata": {
        "id": "t2Dkv3e46KHV",
        "colab_type": "text"
      },
      "cell_type": "markdown",
      "source": [
        "### Input \n",
        "\n",
        "$$\\mathbf{x} = \\left[\\begin{array}\n",
        "{rrr}\n",
        "1  & 0 & 0 & 0 \\\\\n",
        "0 & 0 & 0 & 1 \\\\\n",
        "0 & 1 & 1 & 0\n",
        "\\end{array}\\right]\n",
        "$$\n",
        "\n",
        "\n",
        "### Output\n",
        "\n",
        "$$\\mathbf{y} = \\left[\\begin{array}\n",
        "{rrr}\n",
        "1 \\\\\n",
        "0 \\\\\n",
        "0\n",
        "\\end{array}\\right]\n",
        "$$"
      ]
    },
    {
      "metadata": {
        "id": "ricx0iUBR6IY",
        "colab_type": "text"
      },
      "cell_type": "markdown",
      "source": [
        "## Step 2: Generate random weights and biases\n"
      ]
    },
    {
      "metadata": {
        "id": "b6DBs9jQQZVf",
        "colab_type": "code",
        "colab": {
          "base_uri": "https://localhost:8080/",
          "height": 136
        },
        "outputId": "294f0de8-c065-46de-9c43-cc9e98e9c0e1"
      },
      "cell_type": "code",
      "source": [
        "\n",
        "\n",
        "weight = np.around(np.random.random((4,3)),decimals=2)  # Create an 4X3 array filled with random values\n",
        "print(\"Weight: \")\n",
        "print(weight) \n",
        "\n",
        "bias=np.around(np.random.random((1,3)),decimals=2)  # Create an 1X3 array filled with random values\n",
        "print(\"Bias: \")\n",
        "print(bias) "
      ],
      "execution_count": 22,
      "outputs": [
        {
          "output_type": "stream",
          "text": [
            "Weight: \n",
            "[[0.17 0.61 0.61]\n",
            " [0.28 0.18 0.26]\n",
            " [0.23 0.82 0.32]\n",
            " [0.83 0.58 0.77]]\n",
            "Bias: \n",
            "[[0.68 0.64 0.73]]\n"
          ],
          "name": "stdout"
        }
      ]
    },
    {
      "metadata": {
        "id": "CynisP75u6D4",
        "colab_type": "text"
      },
      "cell_type": "markdown",
      "source": [
        "### Weight \n",
        "\n",
        "$$\\mathbf{weight} = \\left[\\begin{array}\n",
        "{rrr}\n",
        "0.17  & 0.61 & 0.61 \\\\\n",
        "0.28 & 0.18 & 0.26 \\\\\n",
        "0.23 & 0.82 & 0.32 \\\\\n",
        "0.83 & 0.58 & 0.77\n",
        "\\end{array}\\right]\n",
        "$$\n",
        "\n",
        "\n",
        "### Bias\n",
        "\n",
        "$$\\mathbf{bias} = \\left[\\begin{array}\n",
        "{rrr}\n",
        "0.68 & 0.64 & 0.73\n",
        "\\end{array}\\right]\n",
        "$$"
      ]
    },
    {
      "metadata": {
        "id": "onG2lPNdiqXx",
        "colab_type": "code",
        "colab": {
          "base_uri": "https://localhost:8080/",
          "height": 119
        },
        "outputId": "497ba09e-1da4-4839-daa5-71cdd035386f"
      },
      "cell_type": "code",
      "source": [
        "import numpy as np\n",
        "\n",
        "w_out = np.around(np.random.random((3,1)),decimals=2)  # Create an 3X1 array filled with random values\n",
        "print(\"Weight Out: \")\n",
        "print(w_out) \n",
        "\n",
        "b_out=np.around(np.random.random(),decimals=2)  # Create variable with random values\n",
        "print(\"Bias Out: \")\n",
        "print(b_out) "
      ],
      "execution_count": 25,
      "outputs": [
        {
          "output_type": "stream",
          "text": [
            "Weight Out: \n",
            "[[0.22]\n",
            " [0.12]\n",
            " [0.85]]\n",
            "Bias Out: \n",
            "0.46\n"
          ],
          "name": "stdout"
        }
      ]
    },
    {
      "metadata": {
        "id": "yyikAtPqjQ4T",
        "colab_type": "text"
      },
      "cell_type": "markdown",
      "source": [
        "### Weight Out \n",
        "\n",
        "$$\\mathbf{w\\_out} = \\left[\\begin{array}\n",
        "{rrr}\n",
        "0.22  \\\\\n",
        "0.12 \\\\\n",
        "0.85 \n",
        "\\end{array}\\right]\n",
        "$$\n",
        "\n",
        "\n",
        "### Bias Out\n",
        "\n",
        "$$\\mathbf{b\\_out} = \\left[\\begin{array}\n",
        "{rrr}\n",
        "0.46 \n",
        "\\end{array}\\right]\n",
        "$$"
      ]
    },
    {
      "metadata": {
        "id": "DIHHn6q-uOhS",
        "colab_type": "text"
      },
      "cell_type": "markdown",
      "source": [
        "## Step 2: Calculate hidden layer input\n",
        "\n",
        ">hidden_layer_input = matrix_dot_product(X,wh) + bh\n",
        "\n"
      ]
    },
    {
      "metadata": {
        "id": "4hCZ4El2rS5j",
        "colab_type": "code",
        "colab": {
          "base_uri": "https://localhost:8080/",
          "height": 68
        },
        "outputId": "d626ec08-e896-4fff-bf91-6c9c36419b8f"
      },
      "cell_type": "code",
      "source": [
        "\n",
        "\n",
        "from numpy.core.multiarray import ndarray\n",
        "\n",
        "hidden_layer_input: ndarray = x.dot(weight) + bias\n",
        "print(hidden_layer_input)\n",
        "\n"
      ],
      "execution_count": 31,
      "outputs": [
        {
          "output_type": "stream",
          "text": [
            "[[0.85 1.25 1.34]\n",
            " [1.51 1.22 1.5 ]\n",
            " [1.19 1.64 1.31]]\n"
          ],
          "name": "stdout"
        }
      ]
    },
    {
      "metadata": {
        "id": "wii9bEk6vMih",
        "colab_type": "text"
      },
      "cell_type": "markdown",
      "source": [
        "### Hidden layer input\n",
        "$$\\mathbf{hidden\\_layer\\_input} = \\left[\\begin{array}\n",
        "{rrr}\n",
        "0.85 & 1.25 & 1.34  \\\\\n",
        "1.51 & 1.22 & 1.5 \\\\\n",
        "1.19 & 1.64 & 1.31\n",
        "\\end{array}\\right]\n",
        "$$\n"
      ]
    },
    {
      "metadata": {
        "id": "4ha0KDw3vh9W",
        "colab_type": "text"
      },
      "cell_type": "markdown",
      "source": [
        "## Step 3: Perform non-linear transformation on hidden linear input\n",
        ">hidden_layer_activations = sigmoid(hidden_layer_input)\n",
        "\n",
        "\n"
      ]
    },
    {
      "metadata": {
        "id": "72GeFwvtvtUm",
        "colab_type": "code",
        "colab": {
          "base_uri": "https://localhost:8080/",
          "height": 68
        },
        "outputId": "0207b775-4db2-4e69-e737-f920c64ce2c9"
      },
      "cell_type": "code",
      "source": [
        "hidden_layer_activations = sigmoid(hidden_layer_input)\n",
        "print(hidden_layer_activations)"
      ],
      "execution_count": 33,
      "outputs": [
        {
          "output_type": "stream",
          "text": [
            "[[0.7  0.78 0.79]\n",
            " [0.82 0.77 0.82]\n",
            " [0.77 0.84 0.79]]\n"
          ],
          "name": "stdout"
        }
      ]
    },
    {
      "metadata": {
        "id": "2NhOeyHCv0xt",
        "colab_type": "text"
      },
      "cell_type": "markdown",
      "source": [
        "### Hidden layer activations\n",
        "$$\\mathbf{hidden\\_layer\\_activations} = \\left[\\begin{array}\n",
        "{rrr}\n",
        "0.7 & 0.78& 0.79  \\\\\n",
        "0.82 & 0.77 & 0.82 \\\\\n",
        "0.77 & 0.84 & 0.79\n",
        "\\end{array}\\right]\n",
        "$$"
      ]
    },
    {
      "metadata": {
        "id": "XJY5oJsmw1HO",
        "colab_type": "text"
      },
      "cell_type": "markdown",
      "source": [
        "## Step 4: Perform linear and non-linear transformation of hidden layer activation at output layer\n",
        ">output_layer_input = matrix_dot_product (hidden_layer_activations * wout ) + bout \n",
        "\n",
        ">output = sigmoid(output_layer_input)\n",
        "\n",
        "\n"
      ]
    },
    {
      "metadata": {
        "id": "_gY19fyIw8bc",
        "colab_type": "code",
        "colab": {
          "base_uri": "https://localhost:8080/",
          "height": 85
        },
        "outputId": "66ee8e39-1b3e-4ffe-f115-8849f918e75a"
      },
      "cell_type": "code",
      "source": [
        "output_layer_input = hidden_layer_activations.dot(w_out) + b_out\n",
        "output=sigmoid(output_layer_input)\n",
        "print(\"Output: \")\n",
        "print(output)"
      ],
      "execution_count": 34,
      "outputs": [
        {
          "output_type": "stream",
          "text": [
            "Output: \n",
            "[[0.8 ]\n",
            " [0.81]\n",
            " [0.8 ]]\n"
          ],
          "name": "stdout"
        }
      ]
    },
    {
      "metadata": {
        "id": "9fMFizoFxvHY",
        "colab_type": "text"
      },
      "cell_type": "markdown",
      "source": [
        "### Output\n",
        "$$\\mathbf{output} = \\left[\\begin{array}\n",
        "{rrr}\n",
        "0.8  \\\\\n",
        "0.81 \\\\\n",
        "0.8\n",
        "\\end{array}\\right]\n",
        "$$"
      ]
    },
    {
      "metadata": {
        "id": "ASyfVIF8y4ec",
        "colab_type": "text"
      },
      "cell_type": "markdown",
      "source": [
        "## Step 5: Calculate gradient of Error(E) at output layer\n",
        ">E = y-output\n",
        "\n",
        "\n"
      ]
    },
    {
      "metadata": {
        "id": "44aP1ZltzCxe",
        "colab_type": "code",
        "colab": {
          "base_uri": "https://localhost:8080/",
          "height": 68
        },
        "outputId": "6da933bc-fdcd-4c4d-daa6-075ebdfc64d5"
      },
      "cell_type": "code",
      "source": [
        "E= y - output\n",
        "print(E)\n",
        "\n"
      ],
      "execution_count": 35,
      "outputs": [
        {
          "output_type": "stream",
          "text": [
            "[[ 0.2 ]\n",
            " [-0.81]\n",
            " [-0.8 ]]\n"
          ],
          "name": "stdout"
        }
      ]
    },
    {
      "metadata": {
        "id": "Km6hqugNzGnb",
        "colab_type": "text"
      },
      "cell_type": "markdown",
      "source": [
        "### Error\n",
        "$$\\mathbf{E} = \\left[\\begin{array}\n",
        "{rrr}\n",
        "0.2  \\\\\n",
        "-0.81 \\\\\n",
        "-0.8\n",
        "\\end{array}\\right]\n",
        "$$"
      ]
    },
    {
      "metadata": {
        "id": "rw-QKpNEzpeN",
        "colab_type": "text"
      },
      "cell_type": "markdown",
      "source": [
        "## Step 6: Compute slope at output and hidden layer\n",
        "\n",
        "> Slope_output_layer= derivatives_sigmoid(output)\n",
        "\n",
        "> Slope_hidden_layer = derivatives_sigmoid(hiddenlayer_activations)`\n"
      ]
    },
    {
      "metadata": {
        "id": "KA-S3YKm0BOg",
        "colab_type": "code",
        "colab": {
          "base_uri": "https://localhost:8080/",
          "height": 153
        },
        "outputId": "2ddc3524-e37d-4dbe-eb87-2ed6f9977f3a"
      },
      "cell_type": "code",
      "source": [
        "slope_output=slope(output)\n",
        "print(\"Slope Output\")\n",
        "print(slope_output)\n",
        "\n",
        "slope_hidden_layer=slope(hidden_layer_activations)\n",
        "print(\"Slope Hidden Layer\")\n",
        "print(slope_hidden_layer)"
      ],
      "execution_count": 41,
      "outputs": [
        {
          "output_type": "stream",
          "text": [
            "Slope Output\n",
            "[[0.16]\n",
            " [0.16]\n",
            " [0.16]]\n",
            "Slope Hidden Layer\n",
            "[[0.21 0.17 0.16]\n",
            " [0.15 0.18 0.15]\n",
            " [0.18 0.14 0.17]]\n"
          ],
          "name": "stdout"
        }
      ]
    },
    {
      "metadata": {
        "id": "H9EmhgU20jBH",
        "colab_type": "text"
      },
      "cell_type": "markdown",
      "source": [
        "### Slope at output\n",
        "\n",
        "$$\\mathbf{slope\\_output} = \\left[\\begin{array}\n",
        "{rrr}\n",
        "0.16 \\\\\n",
        "0.16 \\\\\n",
        "0.16\n",
        "\\end{array}\\right]\n",
        "$$\n",
        "\n",
        "\n",
        "### Slope at hidden layer\n",
        "\n",
        "$$\\mathbf{slope\\_hidden\\_layer} = \\left[\\begin{array}\n",
        "{rrr}\n",
        "0.21  & 0.17 & 0.16 \\\\\n",
        "0.15 & 0.18 & 0.15 \\\\\n",
        "0.18 & 0.14 & 0.17 \n",
        "\\end{array}\\right]\n",
        "$$"
      ]
    },
    {
      "metadata": {
        "id": "VCEdKVqm1NjG",
        "colab_type": "text"
      },
      "cell_type": "markdown",
      "source": [
        "## Step 7: Compute delta at output layer\n",
        "\n",
        "\n",
        "> d_output = E \\* slope_output_layer\\*lr\n"
      ]
    },
    {
      "metadata": {
        "id": "3d9KrOMW1ayO",
        "colab_type": "code",
        "colab": {
          "base_uri": "https://localhost:8080/",
          "height": 68
        },
        "outputId": "1b76884e-8b85-4f8a-a84a-be8295f41f9c"
      },
      "cell_type": "code",
      "source": [
        "lr = 0.1\n",
        "\n",
        "d_output = E * Slope_output * lr\n",
        "print(d_output)\n",
        "\n"
      ],
      "execution_count": 42,
      "outputs": [
        {
          "output_type": "stream",
          "text": [
            "[[ 0.  ]\n",
            " [-0.01]\n",
            " [-0.01]]\n"
          ],
          "name": "stdout"
        }
      ]
    },
    {
      "metadata": {
        "id": "mSQPS6CS1wka",
        "colab_type": "text"
      },
      "cell_type": "markdown",
      "source": [
        "### Delta at output\n",
        "\n",
        "$$\\mathbf{d\\_output} = \\left[\\begin{array}\n",
        "{rrr}\n",
        "0 \\\\\n",
        "-0.01 \\\\\n",
        "-0.01\n",
        "\\end{array}\\right]\n",
        "$$"
      ]
    },
    {
      "metadata": {
        "id": "ZHhd7lPe1-Oc",
        "colab_type": "text"
      },
      "cell_type": "markdown",
      "source": [
        "## Step 8: Calculate Error at hidden layer\n",
        "\n",
        "\n",
        "> Error_at_hidden_layer = matrix_dot_product(d_output, wout.Transpose)\n",
        "\n"
      ]
    },
    {
      "metadata": {
        "id": "vKA9BJZi2E1z",
        "colab_type": "code",
        "colab": {
          "base_uri": "https://localhost:8080/",
          "height": 68
        },
        "outputId": "374532ce-01cb-4893-a5be-d971e96a50a0"
      },
      "cell_type": "code",
      "source": [
        "error_at_hidden_layer=d_output * w_out.transpose()\n",
        "print(error_at_hidden_layer)\n",
        "\n"
      ],
      "execution_count": 43,
      "outputs": [
        {
          "output_type": "stream",
          "text": [
            "[[ 0.    0.    0.  ]\n",
            " [-0.   -0.   -0.01]\n",
            " [-0.   -0.   -0.01]]\n"
          ],
          "name": "stdout"
        }
      ]
    },
    {
      "metadata": {
        "id": "Ic8KSiJj2SFJ",
        "colab_type": "text"
      },
      "cell_type": "markdown",
      "source": [
        "### Error at hidden layer\n",
        "\n",
        "$$\\mathbf{error\\_at\\_hidden\\_layer} = \\left[\\begin{array}\n",
        "{rrr}\n",
        "0  & 0 & 0 \\\\\n",
        "0 & 0 & -0.1 \\\\\n",
        "0 & 0 & -0.1 \n",
        "\\end{array}\\right]\n",
        "$$"
      ]
    },
    {
      "metadata": {
        "id": "4RN0On8S2mv4",
        "colab_type": "text"
      },
      "cell_type": "markdown",
      "source": [
        "## Step 9: Compute delta at hidden layer\n",
        "\n",
        "\n",
        "> d_hiddenlayer = Error_at_hidden_layer * slope_hidden_layer\n",
        "\n",
        "\n",
        "\n"
      ]
    },
    {
      "metadata": {
        "id": "WNzh4vsq2tmv",
        "colab_type": "code",
        "colab": {
          "base_uri": "https://localhost:8080/",
          "height": 68
        },
        "outputId": "e5c74120-3e6e-417c-82d1-f6cdf1de5171"
      },
      "cell_type": "code",
      "source": [
        "d_hidden_layer=error_at_hidden_layer*slope_hidden_layer\n",
        "print(d_hidden_layer)"
      ],
      "execution_count": 44,
      "outputs": [
        {
          "output_type": "stream",
          "text": [
            "[[ 0.  0.  0.]\n",
            " [-0. -0. -0.]\n",
            " [-0. -0. -0.]]\n"
          ],
          "name": "stdout"
        }
      ]
    },
    {
      "metadata": {
        "id": "XSbZTuKP25KJ",
        "colab_type": "text"
      },
      "cell_type": "markdown",
      "source": [
        "### Delta at hidden layer\n",
        "\n",
        "$$\\mathbf{d\\_hidden\\_layer} = \\left[\\begin{array}\n",
        "{rrr}\n",
        "0  & 0 & 0 \\\\\n",
        "0 & 0 & 0 \\\\\n",
        "0 & 0 & 0 \n",
        "\\end{array}\\right]\n",
        "$$"
      ]
    },
    {
      "metadata": {
        "id": "4d5gwIRm3HNh",
        "colab_type": "text"
      },
      "cell_type": "markdown",
      "source": [
        "## Step 10: Update weight at both output and hidden layer\n",
        "\n",
        "\n",
        "> wout = wout + matrix_dot_product (hiddenlayer_activations.Transpose, d_output) * learning_rate\n",
        "\n",
        "> wh = wh+ matrix_dot_product (X.Transpose,d_hiddenlayer) * learning_rate"
      ]
    },
    {
      "metadata": {
        "id": "DHTwL8Hg3QCo",
        "colab_type": "code",
        "colab": {
          "base_uri": "https://localhost:8080/",
          "height": 170
        },
        "outputId": "9f85efbc-bf0d-4254-a878-fbea69ccd044"
      },
      "cell_type": "code",
      "source": [
        "w_out=w_out+(hidden_layer_activations.transpose().dot(d_output)) * lr\n",
        "print(\"w_out:\")\n",
        "print(w_out)\n",
        "\n",
        "weight=weight+x.transpose().dot(d_hidden_layer) * lr\n",
        "print(\"Weight:\")\n",
        "print(weight)\n",
        "\n"
      ],
      "execution_count": 48,
      "outputs": [
        {
          "output_type": "stream",
          "text": [
            "w_out:\n",
            "[[0.22]\n",
            " [0.12]\n",
            " [0.85]]\n",
            "Weight:\n",
            "[[0.17 0.61 0.61]\n",
            " [0.28 0.18 0.26]\n",
            " [0.23 0.82 0.32]\n",
            " [0.83 0.58 0.77]]\n"
          ],
          "name": "stdout"
        }
      ]
    },
    {
      "metadata": {
        "id": "xuc_0xxh4Odh",
        "colab_type": "text"
      },
      "cell_type": "markdown",
      "source": [
        "### Updated weight and w_out\n",
        "\n",
        "$$\\mathbf{w\\_out} = \\left[\\begin{array}\n",
        "{rrr}\n",
        "0.22\\\\\n",
        "0.12 \\\\\n",
        "0.85 \n",
        "\\end{array}\\right]\n",
        "$$\n",
        "\n",
        "$$\\mathbf{weight} = \\left[\\begin{array}\n",
        "{rrr}\n",
        "0.17  & 0.61 & 0.61 \\\\\n",
        "0.28 & 0.18 & 0.26 \\\\\n",
        "0.23 & 0.82 & 0.32 \\\\\n",
        "0.83 & 0.58 & 0.77\n",
        "\\end{array}\\right]\n",
        "$$\n"
      ]
    },
    {
      "metadata": {
        "id": "-8FCNPRd4ut7",
        "colab_type": "text"
      },
      "cell_type": "markdown",
      "source": [
        "## Step 11: Update biases at both output and hidden layer\n",
        "\n",
        "\n",
        "> bh = bh + sum(d_hiddenlayer, axis=0) * learning_rate\n",
        "\n",
        "> bout = bout + sum(d_output, axis=0)*learning_rate"
      ]
    },
    {
      "metadata": {
        "id": "X-ufrM2044lP",
        "colab_type": "code",
        "colab": {
          "base_uri": "https://localhost:8080/",
          "height": 85
        },
        "outputId": "dfde0ac9-0927-4e84-8624-2fb87afce3ff"
      },
      "cell_type": "code",
      "source": [
        "bias = bias + np.sum(d_hidden_layer, axis=0) * lr\n",
        "print(\"Bias:\")\n",
        "print(bias)\n",
        "print(\"Bias Out:\")\n",
        "b_out = b_out + np.sum(d_output, axis=0) * lr\n",
        "print(b_out)"
      ],
      "execution_count": 49,
      "outputs": [
        {
          "output_type": "stream",
          "text": [
            "Bias:\n",
            "[[0.68 0.64 0.73]]\n",
            "Bias Out:\n",
            "[0.46]\n"
          ],
          "name": "stdout"
        }
      ]
    },
    {
      "metadata": {
        "id": "w-F_gqrZ5cBx",
        "colab_type": "text"
      },
      "cell_type": "markdown",
      "source": [
        "\n",
        "### Bias\n",
        "\n",
        "$$\\mathbf{bias} = \\left[\\begin{array}\n",
        "{rrr}\n",
        "0.68 & 0.64 & 0.73\n",
        "\\end{array}\\right]\n",
        "$$\n",
        "\n",
        "### Bias Out\n",
        "\n",
        "$$\\mathbf{b\\_out} = \\left[\\begin{array}\n",
        "{rrr}\n",
        "0.46 \n",
        "\\end{array}\\right]\n",
        "$$"
      ]
    }
  ]
}