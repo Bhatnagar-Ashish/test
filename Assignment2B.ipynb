{
  "nbformat": 4,
  "nbformat_minor": 0,
  "metadata": {
    "colab": {
      "name": "Assignment2B.ipynb",
      "version": "0.3.2",
      "provenance": []
    },
    "kernelspec": {
      "name": "python3",
      "display_name": "Python 3"
    }
  },
  "cells": [
    {
      "cell_type": "markdown",
      "metadata": {
        "id": "view-in-github",
        "colab_type": "text"
      },
      "source": [
        "[View in Colaboratory](https://colab.research.google.com/github/Bhatnagar-Ashish/test/blob/master/Assignment2B.ipynb)"
      ]
    },
    {
      "metadata": {
        "id": "b6DBs9jQQZVf",
        "colab_type": "code",
        "colab": {
          "base_uri": "https://localhost:8080/",
          "height": 136
        },
        "outputId": "294f0de8-c065-46de-9c43-cc9e98e9c0e1"
      },
      "cell_type": "code",
      "source": [
        "import numpy as np\n",
        "\n",
        "weight = np.around(np.random.random((4,3)),decimals=2)  # Create an 4X3 array filled with random values\n",
        "print(\"Weight: \")\n",
        "print(weight) \n",
        "\n",
        "bias=np.around(np.random.random((1,3)),decimals=2)  # Create an 1X3 array filled with random values\n",
        "print(\"Bias: \")\n",
        "print(bias) "
      ],
      "execution_count": 22,
      "outputs": [
        {
          "output_type": "stream",
          "text": [
            "Weight: \n",
            "[[0.17 0.61 0.61]\n",
            " [0.28 0.18 0.26]\n",
            " [0.23 0.82 0.32]\n",
            " [0.83 0.58 0.77]]\n",
            "Bias: \n",
            "[[0.68 0.64 0.73]]\n"
          ],
          "name": "stdout"
        }
      ]
    },
    {
      "metadata": {
        "id": "ricx0iUBR6IY",
        "colab_type": "text"
      },
      "cell_type": "markdown",
      "source": [
        "### Weight \n",
        "\n",
        "$\\mathbf{Wh} = \\left[\\begin{array}\n",
        "{rrr}\n",
        "0.17  & 0.61 & 0.61 \\\\\n",
        "0.28 & 0.18 & 0.26 \\\\\n",
        "0.23 & 0.82 & 0.32 \\\\\n",
        "0.83 & 0.58 & 0.77\n",
        "\\end{array}\\right]\n",
        "$\n",
        "\n",
        "\n",
        "### Bias\n",
        "\n",
        "$\\mathbf{Bh} = \\left[\\begin{array}\n",
        "{rrr}\n",
        "0.68 & 0.64 & 0.73\n",
        "\\end{array}\\right]\n",
        "$"
      ]
    }
  ]
}